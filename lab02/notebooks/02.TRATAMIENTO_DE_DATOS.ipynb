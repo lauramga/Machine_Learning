{
 "cells": [
  {
   "cell_type": "markdown",
   "metadata": {},
   "source": [
    "## 02. Tratamiento de Datos"
   ]
  },
  {
   "cell_type": "markdown",
   "metadata": {},
   "source": [
    "   "
   ]
  },
  {
   "cell_type": "code",
   "execution_count": 1,
   "metadata": {},
   "outputs": [],
   "source": [
    "# Libraries\n",
    "\n",
    "import numpy as np\n",
    "import pandas as pd\n",
    "\n",
    "# Plots\n",
    "\n",
    "import matplotlib\n",
    "from matplotlib import pyplot as plt \n",
    "import seaborn as sns \n",
    "\n",
    "# Metricas\n",
    "\n",
    "from scipy import stats as sts # normality test JB\n",
    "from sklearn import model_selection\n",
    "from sklearn import linear_model, metrics\n",
    "from sklearn.model_selection import train_test_split # split data\n",
    "from sklearn.metrics import mean_squared_error # MSE\n",
    "from sklearn.preprocessing import StandardScaler \n",
    "from sklearn import preprocessing # estandarization\n",
    "from sklearn.preprocessing import MinMaxScaler\n",
    "from sklearn.ensemble import IsolationForest # outliers\n",
    "from math import sqrt # sqrt\n",
    "import math\n",
    "import itertools # aplanar arrays\n",
    "\n",
    "import random\n",
    "random.seed(12345)"
   ]
  },
  {
   "cell_type": "markdown",
   "metadata": {},
   "source": [
    "Importamos nuestro dataset:"
   ]
  },
  {
   "cell_type": "code",
   "execution_count": 2,
   "metadata": {},
   "outputs": [],
   "source": [
    "eda_set = '../data/EDA_set.csv'"
   ]
  },
  {
   "cell_type": "code",
   "execution_count": 3,
   "metadata": {},
   "outputs": [
    {
     "name": "stderr",
     "output_type": "stream",
     "text": [
      "/Users/laura/opt/anaconda3/lib/python3.8/site-packages/IPython/core/interactiveshell.py:3071: DtypeWarning: Columns (144,145,146) have mixed types.Specify dtype option on import or set low_memory=False.\n",
      "  has_raised = await self.run_ast_nodes(code_ast.body, cell_name,\n"
     ]
    }
   ],
   "source": [
    "prestamo = pd.read_csv(eda_set)"
   ]
  },
  {
   "cell_type": "code",
   "execution_count": 4,
   "metadata": {},
   "outputs": [
    {
     "name": "stdout",
     "output_type": "stream",
     "text": [
      "<class 'pandas.core.frame.DataFrame'>\n",
      "RangeIndex: 100000 entries, 0 to 99999\n",
      "Columns: 150 entries, id to settlement_term\n",
      "dtypes: float64(111), int64(1), object(38)\n",
      "memory usage: 114.4+ MB\n"
     ]
    }
   ],
   "source": [
    "prestamo.info()"
   ]
  },
  {
   "cell_type": "markdown",
   "metadata": {},
   "source": [
    "Queremos mantener la mayor cantidad de variables al principio, porque cuantas más variables tenga, más posibilidades tendrá de generar un mejor modelo de predicción. Solo eliminaremos las variables con un porcentaje superior al 805%."
   ]
  },
  {
   "cell_type": "code",
   "execution_count": 5,
   "metadata": {},
   "outputs": [],
   "source": [
    "NaN = pd.DataFrame(round(prestamo.isnull().sum()/len(prestamo.index)*100,2),columns=['null_percent'])"
   ]
  },
  {
   "cell_type": "code",
   "execution_count": 6,
   "metadata": {},
   "outputs": [],
   "source": [
    "Filtro = NaN['null_percent']>80\n",
    "Nulls = NaN[Filtro]\n",
    "prestamo2 = prestamo.drop(list(Nulls.index), axis=1)"
   ]
  },
  {
   "cell_type": "markdown",
   "metadata": {},
   "source": [
    "Comprobamos la dimensión de nuestro dataset:"
   ]
  },
  {
   "cell_type": "code",
   "execution_count": 7,
   "metadata": {
    "scrolled": true
   },
   "outputs": [
    {
     "name": "stdout",
     "output_type": "stream",
     "text": [
      "<class 'pandas.core.frame.DataFrame'>\n",
      "RangeIndex: 100000 entries, 0 to 99999\n",
      "Columns: 111 entries, id to debt_settlement_flag\n",
      "dtypes: float64(84), int64(1), object(26)\n",
      "memory usage: 84.7+ MB\n"
     ]
    }
   ],
   "source": [
    "prestamo2.info()"
   ]
  },
  {
   "cell_type": "markdown",
   "metadata": {},
   "source": [
    "Debido a que cuando se solicita un préstamo no se dispone una determinada información, procedemos a excluir de nuestro analisis las siguientes variables:"
   ]
  },
  {
   "cell_type": "code",
   "execution_count": 8,
   "metadata": {},
   "outputs": [],
   "source": [
    "del prestamo2['sub_grade']\n",
    "del prestamo2['emp_title']\n",
    "del prestamo2['issue_d']\n",
    "del prestamo2['addr_state']\n",
    "del prestamo2['funded_amnt']\n",
    "del prestamo2['funded_amnt_inv']\n",
    "del prestamo2['title']\n",
    "del prestamo2['last_credit_pull_d']\n",
    "del prestamo2['last_pymnt_d']\n",
    "del prestamo2['debt_settlement_flag']\n",
    "del prestamo2['total_pymnt']\n",
    "del prestamo2['total_pymnt_inv']\n",
    "del prestamo2['total_rec_int']\n",
    "del prestamo2['total_rec_late_fee']\n",
    "del prestamo2['total_rec_prncp']\n",
    "del prestamo2['last_pymnt_amnt']\n",
    "del prestamo2['out_prncp']\n",
    "del prestamo2['out_prncp_inv']\n",
    "del prestamo2['hardship_flag']\n",
    "del prestamo2['pymnt_plan']\n",
    "del prestamo2['int_rate']\n",
    "del prestamo2['url']\n",
    "del prestamo2['next_pymnt_d']\n",
    "del prestamo2['revol_util']"
   ]
  },
  {
   "cell_type": "markdown",
   "metadata": {},
   "source": [
    "Debido a que es ilegal pedir el Codigo Postal, eliminamos la variables:\n",
    "    "
   ]
  },
  {
   "cell_type": "code",
   "execution_count": 9,
   "metadata": {},
   "outputs": [],
   "source": [
    "del prestamo2['zip_code']"
   ]
  },
  {
   "cell_type": "markdown",
   "metadata": {},
   "source": [
    "No nos importa si el préstamo se otorgó total o parcialmente así que procemos a eliminar 'initial_list_status'."
   ]
  },
  {
   "cell_type": "code",
   "execution_count": 10,
   "metadata": {},
   "outputs": [],
   "source": [
    "del prestamo2['initial_list_status']"
   ]
  },
  {
   "cell_type": "markdown",
   "metadata": {},
   "source": [
    "Por el mismo motivo eliminamos 'disbursement_method'."
   ]
  },
  {
   "cell_type": "code",
   "execution_count": 11,
   "metadata": {},
   "outputs": [],
   "source": [
    "del prestamo2['disbursement_method']"
   ]
  },
  {
   "cell_type": "markdown",
   "metadata": {},
   "source": [
    "Calculamos el procentaje de NAs:"
   ]
  },
  {
   "cell_type": "code",
   "execution_count": 12,
   "metadata": {},
   "outputs": [
    {
     "data": {
      "text/plain": [
       "mths_since_recent_bc_dlq          0.75939\n",
       "mths_since_last_major_derog       0.72399\n",
       "mths_since_recent_revol_delinq    0.64884\n",
       "mths_since_last_delinq            0.48469\n",
       "il_util                           0.12674\n",
       "mths_since_recent_inq             0.11366\n",
       "emp_length                        0.06302\n",
       "num_tl_120dpd_2m                  0.04925\n",
       "mo_sin_old_il_acct                0.02521\n",
       "mths_since_rcnt_il                0.02521\n",
       "bc_util                           0.01128\n",
       "percent_bc_gt_75                  0.01087\n",
       "bc_open_to_buy                    0.01084\n",
       "mths_since_recent_bc              0.01027\n",
       "dti                               0.00069\n",
       "all_util                          0.00012\n",
       "avg_cur_bal                       0.00002\n",
       "total_acc                         0.00000\n",
       "collections_12_mths_ex_med        0.00000\n",
       "last_fico_range_low               0.00000\n",
       "dtype: float64"
      ]
     },
     "execution_count": 12,
     "metadata": {},
     "output_type": "execute_result"
    }
   ],
   "source": [
    "porcentaje_NaN = prestamo2.apply(lambda x: sum(x.isna()/len(prestamo2)))\n",
    "porcentaje_NaN.sort_values(ascending = False).head(20)"
   ]
  },
  {
   "cell_type": "markdown",
   "metadata": {},
   "source": [
    "A continuación vamos a dividir nuestro dataset entre variables categóricas y númericas:"
   ]
  },
  {
   "cell_type": "code",
   "execution_count": 13,
   "metadata": {},
   "outputs": [],
   "source": [
    "numericas = prestamo2.select_dtypes(include = [np.number])\n",
    "categoricas = prestamo2.select_dtypes(include = [np.object])"
   ]
  },
  {
   "cell_type": "code",
   "execution_count": 14,
   "metadata": {},
   "outputs": [
    {
     "name": "stdout",
     "output_type": "stream",
     "text": [
      "<class 'pandas.core.frame.DataFrame'>\n",
      "RangeIndex: 100000 entries, 0 to 99999\n",
      "Data columns (total 75 columns):\n",
      " #   Column                          Non-Null Count   Dtype  \n",
      "---  ------                          --------------   -----  \n",
      " 0   id                              100000 non-null  int64  \n",
      " 1   loan_amnt                       100000 non-null  float64\n",
      " 2   installment                     100000 non-null  float64\n",
      " 3   annual_inc                      100000 non-null  float64\n",
      " 4   dti                             99931 non-null   float64\n",
      " 5   delinq_2yrs                     100000 non-null  float64\n",
      " 6   fico_range_low                  100000 non-null  float64\n",
      " 7   fico_range_high                 100000 non-null  float64\n",
      " 8   inq_last_6mths                  100000 non-null  float64\n",
      " 9   mths_since_last_delinq          51531 non-null   float64\n",
      " 10  open_acc                        100000 non-null  float64\n",
      " 11  pub_rec                         100000 non-null  float64\n",
      " 12  revol_bal                       100000 non-null  float64\n",
      " 13  total_acc                       100000 non-null  float64\n",
      " 14  recoveries                      100000 non-null  float64\n",
      " 15  collection_recovery_fee         100000 non-null  float64\n",
      " 16  last_fico_range_high            100000 non-null  float64\n",
      " 17  last_fico_range_low             100000 non-null  float64\n",
      " 18  collections_12_mths_ex_med      100000 non-null  float64\n",
      " 19  mths_since_last_major_derog     27601 non-null   float64\n",
      " 20  policy_code                     100000 non-null  float64\n",
      " 21  acc_now_delinq                  100000 non-null  float64\n",
      " 22  tot_coll_amt                    100000 non-null  float64\n",
      " 23  tot_cur_bal                     100000 non-null  float64\n",
      " 24  open_acc_6m                     100000 non-null  float64\n",
      " 25  open_act_il                     100000 non-null  float64\n",
      " 26  open_il_12m                     100000 non-null  float64\n",
      " 27  open_il_24m                     100000 non-null  float64\n",
      " 28  mths_since_rcnt_il              97479 non-null   float64\n",
      " 29  total_bal_il                    100000 non-null  float64\n",
      " 30  il_util                         87326 non-null   float64\n",
      " 31  open_rv_12m                     100000 non-null  float64\n",
      " 32  open_rv_24m                     100000 non-null  float64\n",
      " 33  max_bal_bc                      100000 non-null  float64\n",
      " 34  all_util                        99988 non-null   float64\n",
      " 35  total_rev_hi_lim                100000 non-null  float64\n",
      " 36  inq_fi                          100000 non-null  float64\n",
      " 37  total_cu_tl                     100000 non-null  float64\n",
      " 38  inq_last_12m                    100000 non-null  float64\n",
      " 39  acc_open_past_24mths            100000 non-null  float64\n",
      " 40  avg_cur_bal                     99998 non-null   float64\n",
      " 41  bc_open_to_buy                  98916 non-null   float64\n",
      " 42  bc_util                         98872 non-null   float64\n",
      " 43  chargeoff_within_12_mths        100000 non-null  float64\n",
      " 44  delinq_amnt                     100000 non-null  float64\n",
      " 45  mo_sin_old_il_acct              97479 non-null   float64\n",
      " 46  mo_sin_old_rev_tl_op            100000 non-null  float64\n",
      " 47  mo_sin_rcnt_rev_tl_op           100000 non-null  float64\n",
      " 48  mo_sin_rcnt_tl                  100000 non-null  float64\n",
      " 49  mort_acc                        100000 non-null  float64\n",
      " 50  mths_since_recent_bc            98973 non-null   float64\n",
      " 51  mths_since_recent_bc_dlq        24061 non-null   float64\n",
      " 52  mths_since_recent_inq           88634 non-null   float64\n",
      " 53  mths_since_recent_revol_delinq  35116 non-null   float64\n",
      " 54  num_accts_ever_120_pd           100000 non-null  float64\n",
      " 55  num_actv_bc_tl                  100000 non-null  float64\n",
      " 56  num_actv_rev_tl                 100000 non-null  float64\n",
      " 57  num_bc_sats                     100000 non-null  float64\n",
      " 58  num_bc_tl                       100000 non-null  float64\n",
      " 59  num_il_tl                       100000 non-null  float64\n",
      " 60  num_op_rev_tl                   100000 non-null  float64\n",
      " 61  num_rev_accts                   100000 non-null  float64\n",
      " 62  num_sats                        100000 non-null  float64\n",
      " 63  num_tl_120dpd_2m                95075 non-null   float64\n",
      " 64  num_tl_30dpd                    100000 non-null  float64\n",
      " 65  num_tl_90g_dpd_24m              100000 non-null  float64\n",
      " 66  num_tl_op_past_12m              100000 non-null  float64\n",
      " 67  pct_tl_nvr_dlq                  100000 non-null  float64\n",
      " 68  percent_bc_gt_75                98913 non-null   float64\n",
      " 69  pub_rec_bankruptcies            100000 non-null  float64\n",
      " 70  tax_liens                       100000 non-null  float64\n",
      " 71  tot_hi_cred_lim                 100000 non-null  float64\n",
      " 72  total_bal_ex_mort               100000 non-null  float64\n",
      " 73  total_bc_limit                  100000 non-null  float64\n",
      " 74  total_il_high_credit_limit      100000 non-null  float64\n",
      "dtypes: float64(74), int64(1)\n",
      "memory usage: 57.2 MB\n"
     ]
    }
   ],
   "source": [
    "numericas.info()"
   ]
  },
  {
   "cell_type": "code",
   "execution_count": 15,
   "metadata": {},
   "outputs": [
    {
     "name": "stdout",
     "output_type": "stream",
     "text": [
      "<class 'pandas.core.frame.DataFrame'>\n",
      "RangeIndex: 100000 entries, 0 to 99999\n",
      "Data columns (total 9 columns):\n",
      " #   Column               Non-Null Count   Dtype \n",
      "---  ------               --------------   ----- \n",
      " 0   term                 100000 non-null  object\n",
      " 1   grade                100000 non-null  object\n",
      " 2   emp_length           93698 non-null   object\n",
      " 3   home_ownership       100000 non-null  object\n",
      " 4   verification_status  100000 non-null  object\n",
      " 5   loan_status          100000 non-null  object\n",
      " 6   purpose              100000 non-null  object\n",
      " 7   earliest_cr_line     100000 non-null  object\n",
      " 8   application_type     100000 non-null  object\n",
      "dtypes: object(9)\n",
      "memory usage: 6.9+ MB\n"
     ]
    }
   ],
   "source": [
    "categoricas.info()"
   ]
  },
  {
   "cell_type": "code",
   "execution_count": 16,
   "metadata": {},
   "outputs": [
    {
     "data": {
      "text/plain": [
       "term                     2\n",
       "grade                    7\n",
       "emp_length              11\n",
       "home_ownership           5\n",
       "verification_status      3\n",
       "loan_status              7\n",
       "purpose                 13\n",
       "earliest_cr_line       627\n",
       "application_type         2\n",
       "dtype: int64"
      ]
     },
     "execution_count": 16,
     "metadata": {},
     "output_type": "execute_result"
    }
   ],
   "source": [
    "categoricas.nunique()"
   ]
  },
  {
   "cell_type": "markdown",
   "metadata": {},
   "source": [
    "A las variables númericas vamos a imputarles la media a los NAs."
   ]
  },
  {
   "cell_type": "code",
   "execution_count": 17,
   "metadata": {},
   "outputs": [],
   "source": [
    "numericas = numericas.apply(lambda x: x.replace(\"\", np.nan))\n",
    "numericas = numericas.apply(lambda x: x.fillna(x.mean()))"
   ]
  },
  {
   "cell_type": "code",
   "execution_count": 18,
   "metadata": {},
   "outputs": [
    {
     "name": "stdout",
     "output_type": "stream",
     "text": [
      "<class 'pandas.core.frame.DataFrame'>\n",
      "RangeIndex: 100000 entries, 0 to 99999\n",
      "Data columns (total 75 columns):\n",
      " #   Column                          Non-Null Count   Dtype  \n",
      "---  ------                          --------------   -----  \n",
      " 0   id                              100000 non-null  int64  \n",
      " 1   loan_amnt                       100000 non-null  float64\n",
      " 2   installment                     100000 non-null  float64\n",
      " 3   annual_inc                      100000 non-null  float64\n",
      " 4   dti                             100000 non-null  float64\n",
      " 5   delinq_2yrs                     100000 non-null  float64\n",
      " 6   fico_range_low                  100000 non-null  float64\n",
      " 7   fico_range_high                 100000 non-null  float64\n",
      " 8   inq_last_6mths                  100000 non-null  float64\n",
      " 9   mths_since_last_delinq          100000 non-null  float64\n",
      " 10  open_acc                        100000 non-null  float64\n",
      " 11  pub_rec                         100000 non-null  float64\n",
      " 12  revol_bal                       100000 non-null  float64\n",
      " 13  total_acc                       100000 non-null  float64\n",
      " 14  recoveries                      100000 non-null  float64\n",
      " 15  collection_recovery_fee         100000 non-null  float64\n",
      " 16  last_fico_range_high            100000 non-null  float64\n",
      " 17  last_fico_range_low             100000 non-null  float64\n",
      " 18  collections_12_mths_ex_med      100000 non-null  float64\n",
      " 19  mths_since_last_major_derog     100000 non-null  float64\n",
      " 20  policy_code                     100000 non-null  float64\n",
      " 21  acc_now_delinq                  100000 non-null  float64\n",
      " 22  tot_coll_amt                    100000 non-null  float64\n",
      " 23  tot_cur_bal                     100000 non-null  float64\n",
      " 24  open_acc_6m                     100000 non-null  float64\n",
      " 25  open_act_il                     100000 non-null  float64\n",
      " 26  open_il_12m                     100000 non-null  float64\n",
      " 27  open_il_24m                     100000 non-null  float64\n",
      " 28  mths_since_rcnt_il              100000 non-null  float64\n",
      " 29  total_bal_il                    100000 non-null  float64\n",
      " 30  il_util                         100000 non-null  float64\n",
      " 31  open_rv_12m                     100000 non-null  float64\n",
      " 32  open_rv_24m                     100000 non-null  float64\n",
      " 33  max_bal_bc                      100000 non-null  float64\n",
      " 34  all_util                        100000 non-null  float64\n",
      " 35  total_rev_hi_lim                100000 non-null  float64\n",
      " 36  inq_fi                          100000 non-null  float64\n",
      " 37  total_cu_tl                     100000 non-null  float64\n",
      " 38  inq_last_12m                    100000 non-null  float64\n",
      " 39  acc_open_past_24mths            100000 non-null  float64\n",
      " 40  avg_cur_bal                     100000 non-null  float64\n",
      " 41  bc_open_to_buy                  100000 non-null  float64\n",
      " 42  bc_util                         100000 non-null  float64\n",
      " 43  chargeoff_within_12_mths        100000 non-null  float64\n",
      " 44  delinq_amnt                     100000 non-null  float64\n",
      " 45  mo_sin_old_il_acct              100000 non-null  float64\n",
      " 46  mo_sin_old_rev_tl_op            100000 non-null  float64\n",
      " 47  mo_sin_rcnt_rev_tl_op           100000 non-null  float64\n",
      " 48  mo_sin_rcnt_tl                  100000 non-null  float64\n",
      " 49  mort_acc                        100000 non-null  float64\n",
      " 50  mths_since_recent_bc            100000 non-null  float64\n",
      " 51  mths_since_recent_bc_dlq        100000 non-null  float64\n",
      " 52  mths_since_recent_inq           100000 non-null  float64\n",
      " 53  mths_since_recent_revol_delinq  100000 non-null  float64\n",
      " 54  num_accts_ever_120_pd           100000 non-null  float64\n",
      " 55  num_actv_bc_tl                  100000 non-null  float64\n",
      " 56  num_actv_rev_tl                 100000 non-null  float64\n",
      " 57  num_bc_sats                     100000 non-null  float64\n",
      " 58  num_bc_tl                       100000 non-null  float64\n",
      " 59  num_il_tl                       100000 non-null  float64\n",
      " 60  num_op_rev_tl                   100000 non-null  float64\n",
      " 61  num_rev_accts                   100000 non-null  float64\n",
      " 62  num_sats                        100000 non-null  float64\n",
      " 63  num_tl_120dpd_2m                100000 non-null  float64\n",
      " 64  num_tl_30dpd                    100000 non-null  float64\n",
      " 65  num_tl_90g_dpd_24m              100000 non-null  float64\n",
      " 66  num_tl_op_past_12m              100000 non-null  float64\n",
      " 67  pct_tl_nvr_dlq                  100000 non-null  float64\n",
      " 68  percent_bc_gt_75                100000 non-null  float64\n",
      " 69  pub_rec_bankruptcies            100000 non-null  float64\n",
      " 70  tax_liens                       100000 non-null  float64\n",
      " 71  tot_hi_cred_lim                 100000 non-null  float64\n",
      " 72  total_bal_ex_mort               100000 non-null  float64\n",
      " 73  total_bc_limit                  100000 non-null  float64\n",
      " 74  total_il_high_credit_limit      100000 non-null  float64\n",
      "dtypes: float64(74), int64(1)\n",
      "memory usage: 57.2 MB\n"
     ]
    }
   ],
   "source": [
    "numericas.info()"
   ]
  },
  {
   "cell_type": "markdown",
   "metadata": {},
   "source": [
    "A las variables categóricas vamos a imputarles la moda a los NAs."
   ]
  },
  {
   "cell_type": "code",
   "execution_count": 19,
   "metadata": {},
   "outputs": [],
   "source": [
    "categoricas = categoricas.apply(lambda x: x.replace(\"\", np.nan))\n",
    "categoricas = categoricas.apply(lambda x: x.fillna(x.value_counts().index[0]))"
   ]
  },
  {
   "cell_type": "code",
   "execution_count": 20,
   "metadata": {},
   "outputs": [
    {
     "name": "stdout",
     "output_type": "stream",
     "text": [
      "<class 'pandas.core.frame.DataFrame'>\n",
      "RangeIndex: 100000 entries, 0 to 99999\n",
      "Data columns (total 9 columns):\n",
      " #   Column               Non-Null Count   Dtype \n",
      "---  ------               --------------   ----- \n",
      " 0   term                 100000 non-null  object\n",
      " 1   grade                100000 non-null  object\n",
      " 2   emp_length           100000 non-null  object\n",
      " 3   home_ownership       100000 non-null  object\n",
      " 4   verification_status  100000 non-null  object\n",
      " 5   loan_status          100000 non-null  object\n",
      " 6   purpose              100000 non-null  object\n",
      " 7   earliest_cr_line     100000 non-null  object\n",
      " 8   application_type     100000 non-null  object\n",
      "dtypes: object(9)\n",
      "memory usage: 6.9+ MB\n"
     ]
    }
   ],
   "source": [
    "categoricas.info()"
   ]
  },
  {
   "cell_type": "code",
   "execution_count": 21,
   "metadata": {},
   "outputs": [],
   "source": [
    "prestamo3 = pd.concat([numericas, categoricas], axis = 1)"
   ]
  },
  {
   "cell_type": "code",
   "execution_count": 22,
   "metadata": {},
   "outputs": [
    {
     "data": {
      "text/html": [
       "<div>\n",
       "<style scoped>\n",
       "    .dataframe tbody tr th:only-of-type {\n",
       "        vertical-align: middle;\n",
       "    }\n",
       "\n",
       "    .dataframe tbody tr th {\n",
       "        vertical-align: top;\n",
       "    }\n",
       "\n",
       "    .dataframe thead th {\n",
       "        text-align: right;\n",
       "    }\n",
       "</style>\n",
       "<table border=\"1\" class=\"dataframe\">\n",
       "  <thead>\n",
       "    <tr style=\"text-align: right;\">\n",
       "      <th></th>\n",
       "      <th>id</th>\n",
       "      <th>loan_amnt</th>\n",
       "      <th>installment</th>\n",
       "      <th>annual_inc</th>\n",
       "      <th>dti</th>\n",
       "      <th>delinq_2yrs</th>\n",
       "      <th>fico_range_low</th>\n",
       "      <th>fico_range_high</th>\n",
       "      <th>inq_last_6mths</th>\n",
       "      <th>mths_since_last_delinq</th>\n",
       "      <th>...</th>\n",
       "      <th>total_il_high_credit_limit</th>\n",
       "      <th>term</th>\n",
       "      <th>grade</th>\n",
       "      <th>emp_length</th>\n",
       "      <th>home_ownership</th>\n",
       "      <th>verification_status</th>\n",
       "      <th>loan_status</th>\n",
       "      <th>purpose</th>\n",
       "      <th>earliest_cr_line</th>\n",
       "      <th>application_type</th>\n",
       "    </tr>\n",
       "  </thead>\n",
       "  <tbody>\n",
       "    <tr>\n",
       "      <th>0</th>\n",
       "      <td>112435993</td>\n",
       "      <td>2300.0</td>\n",
       "      <td>77.08</td>\n",
       "      <td>10000.00</td>\n",
       "      <td>21.61</td>\n",
       "      <td>0.0</td>\n",
       "      <td>700.0</td>\n",
       "      <td>704.0</td>\n",
       "      <td>1.0</td>\n",
       "      <td>33.291688</td>\n",
       "      <td>...</td>\n",
       "      <td>0.0</td>\n",
       "      <td>36 months</td>\n",
       "      <td>C</td>\n",
       "      <td>10+ years</td>\n",
       "      <td>OWN</td>\n",
       "      <td>Not Verified</td>\n",
       "      <td>Current</td>\n",
       "      <td>credit_card</td>\n",
       "      <td>Sep-1985</td>\n",
       "      <td>Individual</td>\n",
       "    </tr>\n",
       "    <tr>\n",
       "      <th>1</th>\n",
       "      <td>112290210</td>\n",
       "      <td>16000.0</td>\n",
       "      <td>360.95</td>\n",
       "      <td>94000.00</td>\n",
       "      <td>25.61</td>\n",
       "      <td>0.0</td>\n",
       "      <td>715.0</td>\n",
       "      <td>719.0</td>\n",
       "      <td>0.0</td>\n",
       "      <td>33.291688</td>\n",
       "      <td>...</td>\n",
       "      <td>16000.0</td>\n",
       "      <td>60 months</td>\n",
       "      <td>C</td>\n",
       "      <td>10+ years</td>\n",
       "      <td>MORTGAGE</td>\n",
       "      <td>Not Verified</td>\n",
       "      <td>Current</td>\n",
       "      <td>debt_consolidation</td>\n",
       "      <td>Jun-1992</td>\n",
       "      <td>Individual</td>\n",
       "    </tr>\n",
       "    <tr>\n",
       "      <th>2</th>\n",
       "      <td>112436985</td>\n",
       "      <td>6025.0</td>\n",
       "      <td>209.01</td>\n",
       "      <td>46350.00</td>\n",
       "      <td>8.88</td>\n",
       "      <td>0.0</td>\n",
       "      <td>700.0</td>\n",
       "      <td>704.0</td>\n",
       "      <td>0.0</td>\n",
       "      <td>33.291688</td>\n",
       "      <td>...</td>\n",
       "      <td>0.0</td>\n",
       "      <td>36 months</td>\n",
       "      <td>C</td>\n",
       "      <td>7 years</td>\n",
       "      <td>MORTGAGE</td>\n",
       "      <td>Not Verified</td>\n",
       "      <td>Current</td>\n",
       "      <td>home_improvement</td>\n",
       "      <td>Jun-2002</td>\n",
       "      <td>Individual</td>\n",
       "    </tr>\n",
       "    <tr>\n",
       "      <th>3</th>\n",
       "      <td>112439006</td>\n",
       "      <td>20400.0</td>\n",
       "      <td>652.91</td>\n",
       "      <td>44000.00</td>\n",
       "      <td>27.06</td>\n",
       "      <td>0.0</td>\n",
       "      <td>760.0</td>\n",
       "      <td>764.0</td>\n",
       "      <td>1.0</td>\n",
       "      <td>33.291688</td>\n",
       "      <td>...</td>\n",
       "      <td>56458.0</td>\n",
       "      <td>36 months</td>\n",
       "      <td>B</td>\n",
       "      <td>10+ years</td>\n",
       "      <td>RENT</td>\n",
       "      <td>Source Verified</td>\n",
       "      <td>Current</td>\n",
       "      <td>car</td>\n",
       "      <td>Jan-2007</td>\n",
       "      <td>Individual</td>\n",
       "    </tr>\n",
       "    <tr>\n",
       "      <th>4</th>\n",
       "      <td>112438929</td>\n",
       "      <td>13000.0</td>\n",
       "      <td>431.73</td>\n",
       "      <td>85000.00</td>\n",
       "      <td>6.79</td>\n",
       "      <td>1.0</td>\n",
       "      <td>660.0</td>\n",
       "      <td>664.0</td>\n",
       "      <td>0.0</td>\n",
       "      <td>16.000000</td>\n",
       "      <td>...</td>\n",
       "      <td>11802.0</td>\n",
       "      <td>36 months</td>\n",
       "      <td>B</td>\n",
       "      <td>10+ years</td>\n",
       "      <td>MORTGAGE</td>\n",
       "      <td>Source Verified</td>\n",
       "      <td>Current</td>\n",
       "      <td>debt_consolidation</td>\n",
       "      <td>Feb-2002</td>\n",
       "      <td>Individual</td>\n",
       "    </tr>\n",
       "    <tr>\n",
       "      <th>5</th>\n",
       "      <td>112230200</td>\n",
       "      <td>12000.0</td>\n",
       "      <td>384.06</td>\n",
       "      <td>70000.00</td>\n",
       "      <td>18.34</td>\n",
       "      <td>0.0</td>\n",
       "      <td>670.0</td>\n",
       "      <td>674.0</td>\n",
       "      <td>0.0</td>\n",
       "      <td>35.000000</td>\n",
       "      <td>...</td>\n",
       "      <td>30780.0</td>\n",
       "      <td>36 months</td>\n",
       "      <td>B</td>\n",
       "      <td>10+ years</td>\n",
       "      <td>MORTGAGE</td>\n",
       "      <td>Not Verified</td>\n",
       "      <td>Current</td>\n",
       "      <td>debt_consolidation</td>\n",
       "      <td>Aug-1997</td>\n",
       "      <td>Individual</td>\n",
       "    </tr>\n",
       "    <tr>\n",
       "      <th>6</th>\n",
       "      <td>112210041</td>\n",
       "      <td>6000.0</td>\n",
       "      <td>194.79</td>\n",
       "      <td>37107.19</td>\n",
       "      <td>30.63</td>\n",
       "      <td>0.0</td>\n",
       "      <td>680.0</td>\n",
       "      <td>684.0</td>\n",
       "      <td>0.0</td>\n",
       "      <td>70.000000</td>\n",
       "      <td>...</td>\n",
       "      <td>39869.0</td>\n",
       "      <td>36 months</td>\n",
       "      <td>B</td>\n",
       "      <td>7 years</td>\n",
       "      <td>MORTGAGE</td>\n",
       "      <td>Source Verified</td>\n",
       "      <td>Current</td>\n",
       "      <td>medical</td>\n",
       "      <td>Mar-1992</td>\n",
       "      <td>Individual</td>\n",
       "    </tr>\n",
       "    <tr>\n",
       "      <th>7</th>\n",
       "      <td>112360031</td>\n",
       "      <td>12000.0</td>\n",
       "      <td>285.80</td>\n",
       "      <td>69800.00</td>\n",
       "      <td>31.43</td>\n",
       "      <td>0.0</td>\n",
       "      <td>690.0</td>\n",
       "      <td>694.0</td>\n",
       "      <td>1.0</td>\n",
       "      <td>33.291688</td>\n",
       "      <td>...</td>\n",
       "      <td>66669.0</td>\n",
       "      <td>60 months</td>\n",
       "      <td>C</td>\n",
       "      <td>6 years</td>\n",
       "      <td>RENT</td>\n",
       "      <td>Not Verified</td>\n",
       "      <td>Current</td>\n",
       "      <td>debt_consolidation</td>\n",
       "      <td>Feb-2006</td>\n",
       "      <td>Individual</td>\n",
       "    </tr>\n",
       "    <tr>\n",
       "      <th>8</th>\n",
       "      <td>112038251</td>\n",
       "      <td>11575.0</td>\n",
       "      <td>359.26</td>\n",
       "      <td>153000.00</td>\n",
       "      <td>16.99</td>\n",
       "      <td>0.0</td>\n",
       "      <td>720.0</td>\n",
       "      <td>724.0</td>\n",
       "      <td>0.0</td>\n",
       "      <td>24.000000</td>\n",
       "      <td>...</td>\n",
       "      <td>120572.0</td>\n",
       "      <td>36 months</td>\n",
       "      <td>A</td>\n",
       "      <td>6 years</td>\n",
       "      <td>OWN</td>\n",
       "      <td>Not Verified</td>\n",
       "      <td>Fully Paid</td>\n",
       "      <td>credit_card</td>\n",
       "      <td>Jul-1994</td>\n",
       "      <td>Individual</td>\n",
       "    </tr>\n",
       "    <tr>\n",
       "      <th>9</th>\n",
       "      <td>112134207</td>\n",
       "      <td>20400.0</td>\n",
       "      <td>413.35</td>\n",
       "      <td>110000.00</td>\n",
       "      <td>11.07</td>\n",
       "      <td>0.0</td>\n",
       "      <td>780.0</td>\n",
       "      <td>784.0</td>\n",
       "      <td>1.0</td>\n",
       "      <td>40.000000</td>\n",
       "      <td>...</td>\n",
       "      <td>56264.0</td>\n",
       "      <td>60 months</td>\n",
       "      <td>A</td>\n",
       "      <td>10+ years</td>\n",
       "      <td>MORTGAGE</td>\n",
       "      <td>Not Verified</td>\n",
       "      <td>Current</td>\n",
       "      <td>major_purchase</td>\n",
       "      <td>May-1987</td>\n",
       "      <td>Individual</td>\n",
       "    </tr>\n",
       "  </tbody>\n",
       "</table>\n",
       "<p>10 rows × 84 columns</p>\n",
       "</div>"
      ],
      "text/plain": [
       "          id  loan_amnt  installment  annual_inc    dti  delinq_2yrs  \\\n",
       "0  112435993     2300.0        77.08    10000.00  21.61          0.0   \n",
       "1  112290210    16000.0       360.95    94000.00  25.61          0.0   \n",
       "2  112436985     6025.0       209.01    46350.00   8.88          0.0   \n",
       "3  112439006    20400.0       652.91    44000.00  27.06          0.0   \n",
       "4  112438929    13000.0       431.73    85000.00   6.79          1.0   \n",
       "5  112230200    12000.0       384.06    70000.00  18.34          0.0   \n",
       "6  112210041     6000.0       194.79    37107.19  30.63          0.0   \n",
       "7  112360031    12000.0       285.80    69800.00  31.43          0.0   \n",
       "8  112038251    11575.0       359.26   153000.00  16.99          0.0   \n",
       "9  112134207    20400.0       413.35   110000.00  11.07          0.0   \n",
       "\n",
       "   fico_range_low  fico_range_high  inq_last_6mths  mths_since_last_delinq  \\\n",
       "0           700.0            704.0             1.0               33.291688   \n",
       "1           715.0            719.0             0.0               33.291688   \n",
       "2           700.0            704.0             0.0               33.291688   \n",
       "3           760.0            764.0             1.0               33.291688   \n",
       "4           660.0            664.0             0.0               16.000000   \n",
       "5           670.0            674.0             0.0               35.000000   \n",
       "6           680.0            684.0             0.0               70.000000   \n",
       "7           690.0            694.0             1.0               33.291688   \n",
       "8           720.0            724.0             0.0               24.000000   \n",
       "9           780.0            784.0             1.0               40.000000   \n",
       "\n",
       "   ...  total_il_high_credit_limit        term  grade  emp_length  \\\n",
       "0  ...                         0.0   36 months      C   10+ years   \n",
       "1  ...                     16000.0   60 months      C   10+ years   \n",
       "2  ...                         0.0   36 months      C     7 years   \n",
       "3  ...                     56458.0   36 months      B   10+ years   \n",
       "4  ...                     11802.0   36 months      B   10+ years   \n",
       "5  ...                     30780.0   36 months      B   10+ years   \n",
       "6  ...                     39869.0   36 months      B     7 years   \n",
       "7  ...                     66669.0   60 months      C     6 years   \n",
       "8  ...                    120572.0   36 months      A     6 years   \n",
       "9  ...                     56264.0   60 months      A   10+ years   \n",
       "\n",
       "   home_ownership  verification_status  loan_status             purpose  \\\n",
       "0             OWN         Not Verified      Current         credit_card   \n",
       "1        MORTGAGE         Not Verified      Current  debt_consolidation   \n",
       "2        MORTGAGE         Not Verified      Current    home_improvement   \n",
       "3            RENT      Source Verified      Current                 car   \n",
       "4        MORTGAGE      Source Verified      Current  debt_consolidation   \n",
       "5        MORTGAGE         Not Verified      Current  debt_consolidation   \n",
       "6        MORTGAGE      Source Verified      Current             medical   \n",
       "7            RENT         Not Verified      Current  debt_consolidation   \n",
       "8             OWN         Not Verified   Fully Paid         credit_card   \n",
       "9        MORTGAGE         Not Verified      Current      major_purchase   \n",
       "\n",
       "   earliest_cr_line  application_type  \n",
       "0          Sep-1985        Individual  \n",
       "1          Jun-1992        Individual  \n",
       "2          Jun-2002        Individual  \n",
       "3          Jan-2007        Individual  \n",
       "4          Feb-2002        Individual  \n",
       "5          Aug-1997        Individual  \n",
       "6          Mar-1992        Individual  \n",
       "7          Feb-2006        Individual  \n",
       "8          Jul-1994        Individual  \n",
       "9          May-1987        Individual  \n",
       "\n",
       "[10 rows x 84 columns]"
      ]
     },
     "execution_count": 22,
     "metadata": {},
     "output_type": "execute_result"
    }
   ],
   "source": [
    "prestamo3.head(10)"
   ]
  },
  {
   "cell_type": "markdown",
   "metadata": {},
   "source": [
    "A continuación vamos a dividir la siguiente variable para poder trabajar con ella:"
   ]
  },
  {
   "cell_type": "code",
   "execution_count": 23,
   "metadata": {},
   "outputs": [],
   "source": [
    "x = prestamo3['earliest_cr_line'] # la duplicamos"
   ]
  },
  {
   "cell_type": "code",
   "execution_count": 24,
   "metadata": {},
   "outputs": [],
   "source": [
    "x = x.astype(str) # convert to string"
   ]
  },
  {
   "cell_type": "code",
   "execution_count": 25,
   "metadata": {},
   "outputs": [
    {
     "data": {
      "text/plain": [
       "100000"
      ]
     },
     "execution_count": 25,
     "metadata": {},
     "output_type": "execute_result"
    }
   ],
   "source": [
    "len(x) "
   ]
  },
  {
   "cell_type": "code",
   "execution_count": 26,
   "metadata": {},
   "outputs": [],
   "source": [
    "x = x.map(lambda x: x.split('-'))"
   ]
  },
  {
   "cell_type": "code",
   "execution_count": 27,
   "metadata": {},
   "outputs": [
    {
     "data": {
      "text/plain": [
       "['Jun', '2002']"
      ]
     },
     "execution_count": 27,
     "metadata": {},
     "output_type": "execute_result"
    }
   ],
   "source": [
    "x.iloc[2]"
   ]
  },
  {
   "cell_type": "code",
   "execution_count": 28,
   "metadata": {},
   "outputs": [
    {
     "data": {
      "text/plain": [
       "['Sep', '2013']"
      ]
     },
     "execution_count": 28,
     "metadata": {},
     "output_type": "execute_result"
    }
   ],
   "source": [
    "x.max()"
   ]
  },
  {
   "cell_type": "code",
   "execution_count": 29,
   "metadata": {},
   "outputs": [],
   "source": [
    "x = x.map(lambda x: 2019 - int(x[1]))"
   ]
  },
  {
   "cell_type": "code",
   "execution_count": 30,
   "metadata": {},
   "outputs": [
    {
     "data": {
      "text/plain": [
       "0        34\n",
       "1        27\n",
       "2        17\n",
       "3        12\n",
       "4        17\n",
       "         ..\n",
       "99995    17\n",
       "99996    18\n",
       "99997     6\n",
       "99998    13\n",
       "99999    22\n",
       "Name: earliest_cr_line, Length: 100000, dtype: int64"
      ]
     },
     "execution_count": 30,
     "metadata": {},
     "output_type": "execute_result"
    }
   ],
   "source": [
    "x"
   ]
  },
  {
   "cell_type": "code",
   "execution_count": 31,
   "metadata": {},
   "outputs": [
    {
     "data": {
      "image/png": "[encoded data removed]",
      "text/plain": [
       "<Figure size 432x288 with 1 Axes>"
      ]
     },
     "metadata": {
      "needs_background": "light"
     },
     "output_type": "display_data"
    }
   ],
   "source": [
    "sns.distplot(x);"
   ]
  },
  {
   "cell_type": "markdown",
   "metadata": {},
   "source": [
    "Una vez la hemos dividido, la eliminamos:"
   ]
  },
  {
   "cell_type": "code",
   "execution_count": 32,
   "metadata": {},
   "outputs": [],
   "source": [
    "prestamo3['earliest_cr_line'] = x \n",
    "del x"
   ]
  },
  {
   "cell_type": "markdown",
   "metadata": {},
   "source": [
    "Vamos a reducir la dimensión de la variable 'home_ownership' para que no nos devuelva tantas categorías:"
   ]
  },
  {
   "cell_type": "code",
   "execution_count": 33,
   "metadata": {},
   "outputs": [
    {
     "data": {
      "text/plain": [
       "MORTGAGE    49877\n",
       "RENT        38905\n",
       "OWN         11214\n",
       "ANY             2\n",
       "NONE            2\n",
       "Name: home_ownership, dtype: int64"
      ]
     },
     "execution_count": 33,
     "metadata": {},
     "output_type": "execute_result"
    }
   ],
   "source": [
    "prestamo3['home_ownership'].value_counts()"
   ]
  },
  {
   "cell_type": "code",
   "execution_count": 34,
   "metadata": {},
   "outputs": [],
   "source": [
    "prestamo3['home_ownership'] = np.where((prestamo3['home_ownership'] != 'OWN') & (prestamo3['home_ownership'] != 'RENT'),\n",
    "                                    'OTHER', prestamo3['home_ownership'].values)"
   ]
  },
  {
   "cell_type": "code",
   "execution_count": 35,
   "metadata": {},
   "outputs": [
    {
     "data": {
      "text/plain": [
       "OTHER    49881\n",
       "RENT     38905\n",
       "OWN      11214\n",
       "Name: home_ownership, dtype: int64"
      ]
     },
     "execution_count": 35,
     "metadata": {},
     "output_type": "execute_result"
    }
   ],
   "source": [
    "prestamo3['home_ownership'].value_counts()"
   ]
  },
  {
   "cell_type": "markdown",
   "metadata": {},
   "source": [
    "Vamos a reducir la dimensión de la variable 'emp_length':\n",
    "* De menos de 1 año a 5 años.\n",
    "* De 6 años a 10 años o más."
   ]
  },
  {
   "cell_type": "code",
   "execution_count": null,
   "metadata": {},
   "outputs": [],
   "source": []
  },
  {
   "cell_type": "code",
   "execution_count": 36,
   "metadata": {},
   "outputs": [
    {
     "data": {
      "text/plain": [
       "10+ years    39865\n",
       "2 years       9460\n",
       "< 1 year      9036\n",
       "3 years       8074\n",
       "1 year        6634\n",
       "4 years       6142\n",
       "5 years       6054\n",
       "6 years       4295\n",
       "7 years       3654\n",
       "9 years       3649\n",
       "8 years       3137\n",
       "Name: emp_length, dtype: int64"
      ]
     },
     "execution_count": 36,
     "metadata": {},
     "output_type": "execute_result"
    }
   ],
   "source": [
    "prestamo3['emp_length'].value_counts()"
   ]
  },
  {
   "cell_type": "code",
   "execution_count": 37,
   "metadata": {},
   "outputs": [],
   "source": [
    "prestamo3['emp_length'] = np.where((prestamo3['emp_length'] == '< 1 year') | \n",
    "                                       (prestamo3['emp_length'] == '1 year') |\n",
    "                                       (prestamo3['emp_length'] == '2 years') | \n",
    "                                       (prestamo3['emp_length'] == '3 years') | \n",
    "                                       (prestamo3['emp_length'] == '4 years') | \n",
    "                                       (prestamo3['emp_length'] == '5 years'), \n",
    "                                       '<= 5 years', '6+ years')"
   ]
  },
  {
   "cell_type": "code",
   "execution_count": 38,
   "metadata": {},
   "outputs": [
    {
     "data": {
      "text/plain": [
       "6+ years      54600\n",
       "<= 5 years    45400\n",
       "Name: emp_length, dtype: int64"
      ]
     },
     "execution_count": 38,
     "metadata": {},
     "output_type": "execute_result"
    }
   ],
   "source": [
    "prestamo3['emp_length'].value_counts()"
   ]
  },
  {
   "cell_type": "code",
   "execution_count": 39,
   "metadata": {},
   "outputs": [
    {
     "data": {
      "image/png": "[encoded data removed]",
      "text/plain": [
       "<Figure size 432x288 with 1 Axes>"
      ]
     },
     "metadata": {
      "needs_background": "light"
     },
     "output_type": "display_data"
    }
   ],
   "source": [
    "height = prestamo3['emp_length'].value_counts()\n",
    "bars = ('<=5 years', '6+ years')\n",
    "y_pos = np.arange(len(bars))\n",
    "\n",
    "# Create horizontal bars\n",
    "plt.barh(y_pos, height)\n",
    " \n",
    "# Create names on the y-axis\n",
    "plt.yticks(y_pos, bars)\n",
    " \n",
    "# Show graphic\n",
    "plt.show()"
   ]
  },
  {
   "cell_type": "markdown",
   "metadata": {},
   "source": [
    "Para mantener la variable 'grado' y no crear tan dummies como categorías tiene la variable, aplicaremos un encondig ordinal a la variable. El método será el siguiente:\n",
    "\n",
    "Tenemos 7 categorías desde la mejor calificación, 'A', hasta la peor calificación 'G'.\n",
    "\n",
    "El orden es A> B> C> D> E> F> G.\n",
    "\n",
    "La nueva codificación será 6> 5> 4> 3> 2> 1> 0"
   ]
  },
  {
   "cell_type": "code",
   "execution_count": 40,
   "metadata": {},
   "outputs": [
    {
     "data": {
      "text/plain": [
       "C    34938\n",
       "B    29854\n",
       "A    17067\n",
       "D    11321\n",
       "E     4512\n",
       "F     1576\n",
       "G      732\n",
       "Name: grade, dtype: int64"
      ]
     },
     "execution_count": 40,
     "metadata": {},
     "output_type": "execute_result"
    }
   ],
   "source": [
    "prestamo3['grade'].value_counts()"
   ]
  },
  {
   "cell_type": "code",
   "execution_count": 41,
   "metadata": {},
   "outputs": [],
   "source": [
    "# first we create a mapper\n",
    "\n",
    "mapper = {'A': 6, 'B': 5, 'C': 4, 'D': 3, 'E': 2, 'F': 1, 'G': 0}\n",
    "\n",
    "# now we map the column and replace the values\n",
    "\n",
    "prestamo3['grade'] = prestamo3['grade'].replace(mapper)"
   ]
  },
  {
   "cell_type": "markdown",
   "metadata": {},
   "source": [
    "Debido a todas las transformaciones realizadas, el índice del marco de datos ha cambiado por lo que hay que reiniciarlo:"
   ]
  },
  {
   "cell_type": "code",
   "execution_count": 42,
   "metadata": {},
   "outputs": [],
   "source": [
    "prestamo4 = prestamo3.reset_index(drop = True)"
   ]
  },
  {
   "cell_type": "markdown",
   "metadata": {},
   "source": [
    "En este momento tenemos nuestro conjunto de datos limpio, filtrado y reducido dimensionalmente."
   ]
  },
  {
   "cell_type": "markdown",
   "metadata": {},
   "source": [
    "### Outliers"
   ]
  },
  {
   "cell_type": "markdown",
   "metadata": {},
   "source": [
    "El método que usaremos para detectar valores atípicos se llama Bosque de aislamiento. Aísla explícitamente las anomalías que construyen puntos y regiones normales asignando una puntuación a cada punto de datos. Aprovecha el hecho de que las anomalías son los puntos de datos minoritarios y que tienen valores de atributo que son muy diferentes de los de las instancias normales. Este algoritmo funciona muy bien con conjuntos de datos de muy alta dimensión y demostró ser una forma muy eficaz de detectar anomalías."
   ]
  },
  {
   "cell_type": "code",
   "execution_count": 43,
   "metadata": {},
   "outputs": [],
   "source": [
    "IF = IsolationForest(max_samples = 100, contamination = 0.05, bootstrap = False, random_state = 1)"
   ]
  },
  {
   "cell_type": "code",
   "execution_count": 44,
   "metadata": {},
   "outputs": [
    {
     "name": "stdout",
     "output_type": "stream",
     "text": [
      "CPU times: user 11.7 s, sys: 1.99 s, total: 13.7 s\n",
      "Wall time: 13.8 s\n"
     ]
    },
    {
     "data": {
      "text/plain": [
       "array([1, 1, 1, ..., 1, 1, 1])"
      ]
     },
     "execution_count": 44,
     "metadata": {},
     "output_type": "execute_result"
    }
   ],
   "source": [
    "%%time\n",
    "\n",
    "outliers = IF.fit_predict(numericas)\n",
    "outliers"
   ]
  },
  {
   "cell_type": "markdown",
   "metadata": {},
   "source": [
    "This method is very interesting but, why a sample is considered as an outlier by Isolation Forest? We will extract the first outlier was calculated and see if it is really an outlier."
   ]
  },
  {
   "cell_type": "code",
   "execution_count": 45,
   "metadata": {},
   "outputs": [
    {
     "data": {
      "text/html": [
       "<div>\n",
       "<style scoped>\n",
       "    .dataframe tbody tr th:only-of-type {\n",
       "        vertical-align: middle;\n",
       "    }\n",
       "\n",
       "    .dataframe tbody tr th {\n",
       "        vertical-align: top;\n",
       "    }\n",
       "\n",
       "    .dataframe thead th {\n",
       "        text-align: right;\n",
       "    }\n",
       "</style>\n",
       "<table border=\"1\" class=\"dataframe\">\n",
       "  <thead>\n",
       "    <tr style=\"text-align: right;\">\n",
       "      <th></th>\n",
       "      <th>Valores</th>\n",
       "    </tr>\n",
       "    <tr>\n",
       "      <th>Variable</th>\n",
       "      <th></th>\n",
       "    </tr>\n",
       "  </thead>\n",
       "  <tbody>\n",
       "    <tr>\n",
       "      <th>id</th>\n",
       "      <td>1.122902e+08</td>\n",
       "    </tr>\n",
       "    <tr>\n",
       "      <th>loan_amnt</th>\n",
       "      <td>1.600000e+04</td>\n",
       "    </tr>\n",
       "    <tr>\n",
       "      <th>installment</th>\n",
       "      <td>3.609500e+02</td>\n",
       "    </tr>\n",
       "    <tr>\n",
       "      <th>annual_inc</th>\n",
       "      <td>9.400000e+04</td>\n",
       "    </tr>\n",
       "    <tr>\n",
       "      <th>dti</th>\n",
       "      <td>2.561000e+01</td>\n",
       "    </tr>\n",
       "    <tr>\n",
       "      <th>...</th>\n",
       "      <td>...</td>\n",
       "    </tr>\n",
       "    <tr>\n",
       "      <th>tax_liens</th>\n",
       "      <td>0.000000e+00</td>\n",
       "    </tr>\n",
       "    <tr>\n",
       "      <th>tot_hi_cred_lim</th>\n",
       "      <td>3.199000e+05</td>\n",
       "    </tr>\n",
       "    <tr>\n",
       "      <th>total_bal_ex_mort</th>\n",
       "      <td>4.483000e+04</td>\n",
       "    </tr>\n",
       "    <tr>\n",
       "      <th>total_bc_limit</th>\n",
       "      <td>2.400000e+03</td>\n",
       "    </tr>\n",
       "    <tr>\n",
       "      <th>total_il_high_credit_limit</th>\n",
       "      <td>1.600000e+04</td>\n",
       "    </tr>\n",
       "  </tbody>\n",
       "</table>\n",
       "<p>75 rows × 1 columns</p>\n",
       "</div>"
      ],
      "text/plain": [
       "                                 Valores\n",
       "Variable                                \n",
       "id                          1.122902e+08\n",
       "loan_amnt                   1.600000e+04\n",
       "installment                 3.609500e+02\n",
       "annual_inc                  9.400000e+04\n",
       "dti                         2.561000e+01\n",
       "...                                  ...\n",
       "tax_liens                   0.000000e+00\n",
       "tot_hi_cred_lim             3.199000e+05\n",
       "total_bal_ex_mort           4.483000e+04\n",
       "total_bc_limit              2.400000e+03\n",
       "total_il_high_credit_limit  1.600000e+04\n",
       "\n",
       "[75 rows x 1 columns]"
      ]
     },
     "execution_count": 45,
     "metadata": {},
     "output_type": "execute_result"
    }
   ],
   "source": [
    "primer_outlier = pd.DataFrame({\"Variable\":numericas.iloc[1].index, \"Valores\": numericas.iloc[1]}).set_index(\"Variable\")\n",
    "primer_outlier"
   ]
  },
  {
   "cell_type": "markdown",
   "metadata": {},
   "source": [
    "The Isolation Forest returns us an array with 1 and -1. -1 indicates an outlier, so we need to know their index positions in order to delete the samples from the numerical dataframe."
   ]
  },
  {
   "cell_type": "code",
   "execution_count": 46,
   "metadata": {},
   "outputs": [
    {
     "data": {
      "text/plain": [
       "5000"
      ]
     },
     "execution_count": 46,
     "metadata": {},
     "output_type": "execute_result"
    }
   ],
   "source": [
    "# I do a loop in order to get the index of every -1\n",
    "\n",
    "indices_outliers = []\n",
    "for i in range(0,len(outliers)):\n",
    "    if outliers[i] == -1:\n",
    "        indices_outliers.append(i)\n",
    "\n",
    "        \n",
    "len(indices_outliers)"
   ]
  },
  {
   "cell_type": "markdown",
   "metadata": {},
   "source": [
    "According to the results we have 50 000 outliers. We have a list of the index of every row considered as an outliers, we drop them of the dataset."
   ]
  },
  {
   "cell_type": "code",
   "execution_count": 47,
   "metadata": {},
   "outputs": [],
   "source": [
    "# deletting outliers\n",
    "\n",
    "prestamo3.drop(indices_outliers, axis = 0, inplace = True)"
   ]
  },
  {
   "cell_type": "code",
   "execution_count": 48,
   "metadata": {},
   "outputs": [],
   "source": [
    "# reseting the index\n",
    "\n",
    "prestamo4 = prestamo3.reset_index(drop = True)"
   ]
  },
  {
   "cell_type": "markdown",
   "metadata": {},
   "source": [
    "### Dummies "
   ]
  },
  {
   "cell_type": "markdown",
   "metadata": {},
   "source": [
    "Procedemos a tratar nuestra variable endógena \"loan_status\":"
   ]
  },
  {
   "cell_type": "code",
   "execution_count": 49,
   "metadata": {},
   "outputs": [],
   "source": [
    "numericas = prestamo4.select_dtypes(include = [np.number])\n",
    "categoricas = prestamo4.select_dtypes(include = [np.object])"
   ]
  },
  {
   "cell_type": "code",
   "execution_count": 50,
   "metadata": {},
   "outputs": [
    {
     "name": "stderr",
     "output_type": "stream",
     "text": [
      "<ipython-input-50-cda29901609a>:1: SettingWithCopyWarning: \n",
      "A value is trying to be set on a copy of a slice from a DataFrame.\n",
      "Try using .loc[row_indexer,col_indexer] = value instead\n",
      "\n",
      "See the caveats in the documentation: https://pandas.pydata.org/pandas-docs/stable/user_guide/indexing.html#returning-a-view-versus-a-copy\n",
      "  numericas['estado_prestamo'] = np.where((categoricas['loan_status'] == 'Fully Paid'), 0, 1)\n"
     ]
    }
   ],
   "source": [
    "numericas['estado_prestamo'] = np.where((categoricas['loan_status'] == 'Fully Paid'), 0, 1)"
   ]
  },
  {
   "cell_type": "code",
   "execution_count": 51,
   "metadata": {},
   "outputs": [
    {
     "data": {
      "text/plain": [
       "0        1\n",
       "1        1\n",
       "2        1\n",
       "3        1\n",
       "4        1\n",
       "        ..\n",
       "94995    1\n",
       "94996    1\n",
       "94997    1\n",
       "94998    1\n",
       "94999    1\n",
       "Name: estado_prestamo, Length: 95000, dtype: int64"
      ]
     },
     "execution_count": 51,
     "metadata": {},
     "output_type": "execute_result"
    }
   ],
   "source": [
    "numericas['estado_prestamo']"
   ]
  },
  {
   "cell_type": "code",
   "execution_count": 52,
   "metadata": {},
   "outputs": [],
   "source": [
    "del categoricas['loan_status']"
   ]
  },
  {
   "cell_type": "markdown",
   "metadata": {},
   "source": [
    "A continuación vamos a convertir las variables categóricas a variables dummies:"
   ]
  },
  {
   "cell_type": "code",
   "execution_count": 53,
   "metadata": {},
   "outputs": [
    {
     "data": {
      "text/plain": [
       "['term',\n",
       " 'emp_length',\n",
       " 'home_ownership',\n",
       " 'verification_status',\n",
       " 'purpose',\n",
       " 'application_type']"
      ]
     },
     "execution_count": 53,
     "metadata": {},
     "output_type": "execute_result"
    }
   ],
   "source": [
    "list(categoricas)"
   ]
  },
  {
   "cell_type": "code",
   "execution_count": 54,
   "metadata": {},
   "outputs": [],
   "source": [
    "dummies = pd.get_dummies(categoricas)"
   ]
  },
  {
   "cell_type": "code",
   "execution_count": 55,
   "metadata": {
    "scrolled": true
   },
   "outputs": [
    {
     "data": {
      "text/html": [
       "<div>\n",
       "<style scoped>\n",
       "    .dataframe tbody tr th:only-of-type {\n",
       "        vertical-align: middle;\n",
       "    }\n",
       "\n",
       "    .dataframe tbody tr th {\n",
       "        vertical-align: top;\n",
       "    }\n",
       "\n",
       "    .dataframe thead th {\n",
       "        text-align: right;\n",
       "    }\n",
       "</style>\n",
       "<table border=\"1\" class=\"dataframe\">\n",
       "  <thead>\n",
       "    <tr style=\"text-align: right;\">\n",
       "      <th></th>\n",
       "      <th>term_ 36 months</th>\n",
       "      <th>term_ 60 months</th>\n",
       "      <th>emp_length_6+ years</th>\n",
       "      <th>emp_length_&lt;= 5 years</th>\n",
       "      <th>home_ownership_OTHER</th>\n",
       "      <th>home_ownership_OWN</th>\n",
       "      <th>home_ownership_RENT</th>\n",
       "      <th>verification_status_Not Verified</th>\n",
       "      <th>verification_status_Source Verified</th>\n",
       "      <th>verification_status_Verified</th>\n",
       "      <th>...</th>\n",
       "      <th>purpose_major_purchase</th>\n",
       "      <th>purpose_medical</th>\n",
       "      <th>purpose_moving</th>\n",
       "      <th>purpose_other</th>\n",
       "      <th>purpose_renewable_energy</th>\n",
       "      <th>purpose_small_business</th>\n",
       "      <th>purpose_vacation</th>\n",
       "      <th>purpose_wedding</th>\n",
       "      <th>application_type_Individual</th>\n",
       "      <th>application_type_Joint App</th>\n",
       "    </tr>\n",
       "  </thead>\n",
       "  <tbody>\n",
       "    <tr>\n",
       "      <th>0</th>\n",
       "      <td>1</td>\n",
       "      <td>0</td>\n",
       "      <td>1</td>\n",
       "      <td>0</td>\n",
       "      <td>0</td>\n",
       "      <td>1</td>\n",
       "      <td>0</td>\n",
       "      <td>1</td>\n",
       "      <td>0</td>\n",
       "      <td>0</td>\n",
       "      <td>...</td>\n",
       "      <td>0</td>\n",
       "      <td>0</td>\n",
       "      <td>0</td>\n",
       "      <td>0</td>\n",
       "      <td>0</td>\n",
       "      <td>0</td>\n",
       "      <td>0</td>\n",
       "      <td>0</td>\n",
       "      <td>1</td>\n",
       "      <td>0</td>\n",
       "    </tr>\n",
       "    <tr>\n",
       "      <th>1</th>\n",
       "      <td>0</td>\n",
       "      <td>1</td>\n",
       "      <td>1</td>\n",
       "      <td>0</td>\n",
       "      <td>1</td>\n",
       "      <td>0</td>\n",
       "      <td>0</td>\n",
       "      <td>1</td>\n",
       "      <td>0</td>\n",
       "      <td>0</td>\n",
       "      <td>...</td>\n",
       "      <td>0</td>\n",
       "      <td>0</td>\n",
       "      <td>0</td>\n",
       "      <td>0</td>\n",
       "      <td>0</td>\n",
       "      <td>0</td>\n",
       "      <td>0</td>\n",
       "      <td>0</td>\n",
       "      <td>1</td>\n",
       "      <td>0</td>\n",
       "    </tr>\n",
       "    <tr>\n",
       "      <th>2</th>\n",
       "      <td>1</td>\n",
       "      <td>0</td>\n",
       "      <td>1</td>\n",
       "      <td>0</td>\n",
       "      <td>1</td>\n",
       "      <td>0</td>\n",
       "      <td>0</td>\n",
       "      <td>1</td>\n",
       "      <td>0</td>\n",
       "      <td>0</td>\n",
       "      <td>...</td>\n",
       "      <td>0</td>\n",
       "      <td>0</td>\n",
       "      <td>0</td>\n",
       "      <td>0</td>\n",
       "      <td>0</td>\n",
       "      <td>0</td>\n",
       "      <td>0</td>\n",
       "      <td>0</td>\n",
       "      <td>1</td>\n",
       "      <td>0</td>\n",
       "    </tr>\n",
       "    <tr>\n",
       "      <th>3</th>\n",
       "      <td>1</td>\n",
       "      <td>0</td>\n",
       "      <td>1</td>\n",
       "      <td>0</td>\n",
       "      <td>0</td>\n",
       "      <td>0</td>\n",
       "      <td>1</td>\n",
       "      <td>0</td>\n",
       "      <td>1</td>\n",
       "      <td>0</td>\n",
       "      <td>...</td>\n",
       "      <td>0</td>\n",
       "      <td>0</td>\n",
       "      <td>0</td>\n",
       "      <td>0</td>\n",
       "      <td>0</td>\n",
       "      <td>0</td>\n",
       "      <td>0</td>\n",
       "      <td>0</td>\n",
       "      <td>1</td>\n",
       "      <td>0</td>\n",
       "    </tr>\n",
       "    <tr>\n",
       "      <th>4</th>\n",
       "      <td>1</td>\n",
       "      <td>0</td>\n",
       "      <td>1</td>\n",
       "      <td>0</td>\n",
       "      <td>1</td>\n",
       "      <td>0</td>\n",
       "      <td>0</td>\n",
       "      <td>0</td>\n",
       "      <td>1</td>\n",
       "      <td>0</td>\n",
       "      <td>...</td>\n",
       "      <td>0</td>\n",
       "      <td>0</td>\n",
       "      <td>0</td>\n",
       "      <td>0</td>\n",
       "      <td>0</td>\n",
       "      <td>0</td>\n",
       "      <td>0</td>\n",
       "      <td>0</td>\n",
       "      <td>1</td>\n",
       "      <td>0</td>\n",
       "    </tr>\n",
       "  </tbody>\n",
       "</table>\n",
       "<p>5 rows × 25 columns</p>\n",
       "</div>"
      ],
      "text/plain": [
       "   term_ 36 months  term_ 60 months  emp_length_6+ years  \\\n",
       "0                1                0                    1   \n",
       "1                0                1                    1   \n",
       "2                1                0                    1   \n",
       "3                1                0                    1   \n",
       "4                1                0                    1   \n",
       "\n",
       "   emp_length_<= 5 years  home_ownership_OTHER  home_ownership_OWN  \\\n",
       "0                      0                     0                   1   \n",
       "1                      0                     1                   0   \n",
       "2                      0                     1                   0   \n",
       "3                      0                     0                   0   \n",
       "4                      0                     1                   0   \n",
       "\n",
       "   home_ownership_RENT  verification_status_Not Verified  \\\n",
       "0                    0                                 1   \n",
       "1                    0                                 1   \n",
       "2                    0                                 1   \n",
       "3                    1                                 0   \n",
       "4                    0                                 0   \n",
       "\n",
       "   verification_status_Source Verified  verification_status_Verified  ...  \\\n",
       "0                                    0                             0  ...   \n",
       "1                                    0                             0  ...   \n",
       "2                                    0                             0  ...   \n",
       "3                                    1                             0  ...   \n",
       "4                                    1                             0  ...   \n",
       "\n",
       "   purpose_major_purchase  purpose_medical  purpose_moving  purpose_other  \\\n",
       "0                       0                0               0              0   \n",
       "1                       0                0               0              0   \n",
       "2                       0                0               0              0   \n",
       "3                       0                0               0              0   \n",
       "4                       0                0               0              0   \n",
       "\n",
       "   purpose_renewable_energy  purpose_small_business  purpose_vacation  \\\n",
       "0                         0                       0                 0   \n",
       "1                         0                       0                 0   \n",
       "2                         0                       0                 0   \n",
       "3                         0                       0                 0   \n",
       "4                         0                       0                 0   \n",
       "\n",
       "   purpose_wedding  application_type_Individual  application_type_Joint App  \n",
       "0                0                            1                           0  \n",
       "1                0                            1                           0  \n",
       "2                0                            1                           0  \n",
       "3                0                            1                           0  \n",
       "4                0                            1                           0  \n",
       "\n",
       "[5 rows x 25 columns]"
      ]
     },
     "execution_count": 55,
     "metadata": {},
     "output_type": "execute_result"
    }
   ],
   "source": [
    "dummies.head()"
   ]
  },
  {
   "cell_type": "code",
   "execution_count": 56,
   "metadata": {},
   "outputs": [],
   "source": [
    "dummies['grade'] = prestamo4['grade']"
   ]
  },
  {
   "cell_type": "code",
   "execution_count": 57,
   "metadata": {},
   "outputs": [
    {
     "data": {
      "text/html": [
       "<div>\n",
       "<style scoped>\n",
       "    .dataframe tbody tr th:only-of-type {\n",
       "        vertical-align: middle;\n",
       "    }\n",
       "\n",
       "    .dataframe tbody tr th {\n",
       "        vertical-align: top;\n",
       "    }\n",
       "\n",
       "    .dataframe thead th {\n",
       "        text-align: right;\n",
       "    }\n",
       "</style>\n",
       "<table border=\"1\" class=\"dataframe\">\n",
       "  <thead>\n",
       "    <tr style=\"text-align: right;\">\n",
       "      <th></th>\n",
       "      <th>term_ 36 months</th>\n",
       "      <th>term_ 60 months</th>\n",
       "      <th>emp_length_6+ years</th>\n",
       "      <th>emp_length_&lt;= 5 years</th>\n",
       "      <th>home_ownership_OTHER</th>\n",
       "      <th>home_ownership_OWN</th>\n",
       "      <th>home_ownership_RENT</th>\n",
       "      <th>verification_status_Not Verified</th>\n",
       "      <th>verification_status_Source Verified</th>\n",
       "      <th>verification_status_Verified</th>\n",
       "      <th>...</th>\n",
       "      <th>purpose_medical</th>\n",
       "      <th>purpose_moving</th>\n",
       "      <th>purpose_other</th>\n",
       "      <th>purpose_renewable_energy</th>\n",
       "      <th>purpose_small_business</th>\n",
       "      <th>purpose_vacation</th>\n",
       "      <th>purpose_wedding</th>\n",
       "      <th>application_type_Individual</th>\n",
       "      <th>application_type_Joint App</th>\n",
       "      <th>grade</th>\n",
       "    </tr>\n",
       "  </thead>\n",
       "  <tbody>\n",
       "    <tr>\n",
       "      <th>0</th>\n",
       "      <td>1</td>\n",
       "      <td>0</td>\n",
       "      <td>1</td>\n",
       "      <td>0</td>\n",
       "      <td>0</td>\n",
       "      <td>1</td>\n",
       "      <td>0</td>\n",
       "      <td>1</td>\n",
       "      <td>0</td>\n",
       "      <td>0</td>\n",
       "      <td>...</td>\n",
       "      <td>0</td>\n",
       "      <td>0</td>\n",
       "      <td>0</td>\n",
       "      <td>0</td>\n",
       "      <td>0</td>\n",
       "      <td>0</td>\n",
       "      <td>0</td>\n",
       "      <td>1</td>\n",
       "      <td>0</td>\n",
       "      <td>4</td>\n",
       "    </tr>\n",
       "    <tr>\n",
       "      <th>1</th>\n",
       "      <td>0</td>\n",
       "      <td>1</td>\n",
       "      <td>1</td>\n",
       "      <td>0</td>\n",
       "      <td>1</td>\n",
       "      <td>0</td>\n",
       "      <td>0</td>\n",
       "      <td>1</td>\n",
       "      <td>0</td>\n",
       "      <td>0</td>\n",
       "      <td>...</td>\n",
       "      <td>0</td>\n",
       "      <td>0</td>\n",
       "      <td>0</td>\n",
       "      <td>0</td>\n",
       "      <td>0</td>\n",
       "      <td>0</td>\n",
       "      <td>0</td>\n",
       "      <td>1</td>\n",
       "      <td>0</td>\n",
       "      <td>4</td>\n",
       "    </tr>\n",
       "    <tr>\n",
       "      <th>2</th>\n",
       "      <td>1</td>\n",
       "      <td>0</td>\n",
       "      <td>1</td>\n",
       "      <td>0</td>\n",
       "      <td>1</td>\n",
       "      <td>0</td>\n",
       "      <td>0</td>\n",
       "      <td>1</td>\n",
       "      <td>0</td>\n",
       "      <td>0</td>\n",
       "      <td>...</td>\n",
       "      <td>0</td>\n",
       "      <td>0</td>\n",
       "      <td>0</td>\n",
       "      <td>0</td>\n",
       "      <td>0</td>\n",
       "      <td>0</td>\n",
       "      <td>0</td>\n",
       "      <td>1</td>\n",
       "      <td>0</td>\n",
       "      <td>4</td>\n",
       "    </tr>\n",
       "    <tr>\n",
       "      <th>3</th>\n",
       "      <td>1</td>\n",
       "      <td>0</td>\n",
       "      <td>1</td>\n",
       "      <td>0</td>\n",
       "      <td>0</td>\n",
       "      <td>0</td>\n",
       "      <td>1</td>\n",
       "      <td>0</td>\n",
       "      <td>1</td>\n",
       "      <td>0</td>\n",
       "      <td>...</td>\n",
       "      <td>0</td>\n",
       "      <td>0</td>\n",
       "      <td>0</td>\n",
       "      <td>0</td>\n",
       "      <td>0</td>\n",
       "      <td>0</td>\n",
       "      <td>0</td>\n",
       "      <td>1</td>\n",
       "      <td>0</td>\n",
       "      <td>5</td>\n",
       "    </tr>\n",
       "    <tr>\n",
       "      <th>4</th>\n",
       "      <td>1</td>\n",
       "      <td>0</td>\n",
       "      <td>1</td>\n",
       "      <td>0</td>\n",
       "      <td>1</td>\n",
       "      <td>0</td>\n",
       "      <td>0</td>\n",
       "      <td>0</td>\n",
       "      <td>1</td>\n",
       "      <td>0</td>\n",
       "      <td>...</td>\n",
       "      <td>0</td>\n",
       "      <td>0</td>\n",
       "      <td>0</td>\n",
       "      <td>0</td>\n",
       "      <td>0</td>\n",
       "      <td>0</td>\n",
       "      <td>0</td>\n",
       "      <td>1</td>\n",
       "      <td>0</td>\n",
       "      <td>5</td>\n",
       "    </tr>\n",
       "  </tbody>\n",
       "</table>\n",
       "<p>5 rows × 26 columns</p>\n",
       "</div>"
      ],
      "text/plain": [
       "   term_ 36 months  term_ 60 months  emp_length_6+ years  \\\n",
       "0                1                0                    1   \n",
       "1                0                1                    1   \n",
       "2                1                0                    1   \n",
       "3                1                0                    1   \n",
       "4                1                0                    1   \n",
       "\n",
       "   emp_length_<= 5 years  home_ownership_OTHER  home_ownership_OWN  \\\n",
       "0                      0                     0                   1   \n",
       "1                      0                     1                   0   \n",
       "2                      0                     1                   0   \n",
       "3                      0                     0                   0   \n",
       "4                      0                     1                   0   \n",
       "\n",
       "   home_ownership_RENT  verification_status_Not Verified  \\\n",
       "0                    0                                 1   \n",
       "1                    0                                 1   \n",
       "2                    0                                 1   \n",
       "3                    1                                 0   \n",
       "4                    0                                 0   \n",
       "\n",
       "   verification_status_Source Verified  verification_status_Verified  ...  \\\n",
       "0                                    0                             0  ...   \n",
       "1                                    0                             0  ...   \n",
       "2                                    0                             0  ...   \n",
       "3                                    1                             0  ...   \n",
       "4                                    1                             0  ...   \n",
       "\n",
       "   purpose_medical  purpose_moving  purpose_other  purpose_renewable_energy  \\\n",
       "0                0               0              0                         0   \n",
       "1                0               0              0                         0   \n",
       "2                0               0              0                         0   \n",
       "3                0               0              0                         0   \n",
       "4                0               0              0                         0   \n",
       "\n",
       "   purpose_small_business  purpose_vacation  purpose_wedding  \\\n",
       "0                       0                 0                0   \n",
       "1                       0                 0                0   \n",
       "2                       0                 0                0   \n",
       "3                       0                 0                0   \n",
       "4                       0                 0                0   \n",
       "\n",
       "   application_type_Individual  application_type_Joint App  grade  \n",
       "0                            1                           0      4  \n",
       "1                            1                           0      4  \n",
       "2                            1                           0      4  \n",
       "3                            1                           0      5  \n",
       "4                            1                           0      5  \n",
       "\n",
       "[5 rows x 26 columns]"
      ]
     },
     "execution_count": 57,
     "metadata": {},
     "output_type": "execute_result"
    }
   ],
   "source": [
    "dummies.head()"
   ]
  },
  {
   "cell_type": "markdown",
   "metadata": {},
   "source": [
    "### Escalar"
   ]
  },
  {
   "cell_type": "code",
   "execution_count": 58,
   "metadata": {},
   "outputs": [],
   "source": [
    "escalar = MinMaxScaler()\n",
    "num_escaladas = escalar.fit_transform(numericas)\n",
    "numericas = pd.DataFrame(num_escaladas, index = numericas.index, columns = numericas.columns)"
   ]
  },
  {
   "cell_type": "code",
   "execution_count": 59,
   "metadata": {},
   "outputs": [
    {
     "data": {
      "text/html": [
       "<div>\n",
       "<style scoped>\n",
       "    .dataframe tbody tr th:only-of-type {\n",
       "        vertical-align: middle;\n",
       "    }\n",
       "\n",
       "    .dataframe tbody tr th {\n",
       "        vertical-align: top;\n",
       "    }\n",
       "\n",
       "    .dataframe thead th {\n",
       "        text-align: right;\n",
       "    }\n",
       "</style>\n",
       "<table border=\"1\" class=\"dataframe\">\n",
       "  <thead>\n",
       "    <tr style=\"text-align: right;\">\n",
       "      <th></th>\n",
       "      <th>id</th>\n",
       "      <th>loan_amnt</th>\n",
       "      <th>installment</th>\n",
       "      <th>annual_inc</th>\n",
       "      <th>dti</th>\n",
       "      <th>delinq_2yrs</th>\n",
       "      <th>fico_range_low</th>\n",
       "      <th>fico_range_high</th>\n",
       "      <th>inq_last_6mths</th>\n",
       "      <th>mths_since_last_delinq</th>\n",
       "      <th>...</th>\n",
       "      <th>percent_bc_gt_75</th>\n",
       "      <th>pub_rec_bankruptcies</th>\n",
       "      <th>tax_liens</th>\n",
       "      <th>tot_hi_cred_lim</th>\n",
       "      <th>total_bal_ex_mort</th>\n",
       "      <th>total_bc_limit</th>\n",
       "      <th>total_il_high_credit_limit</th>\n",
       "      <th>grade</th>\n",
       "      <th>earliest_cr_line</th>\n",
       "      <th>estado_prestamo</th>\n",
       "    </tr>\n",
       "  </thead>\n",
       "  <tbody>\n",
       "    <tr>\n",
       "      <th>0</th>\n",
       "      <td>0.999952</td>\n",
       "      <td>0.033333</td>\n",
       "      <td>0.027792</td>\n",
       "      <td>0.001124</td>\n",
       "      <td>0.021632</td>\n",
       "      <td>0.000000</td>\n",
       "      <td>0.216216</td>\n",
       "      <td>0.215054</td>\n",
       "      <td>0.2</td>\n",
       "      <td>0.206781</td>\n",
       "      <td>...</td>\n",
       "      <td>1.0</td>\n",
       "      <td>0.0</td>\n",
       "      <td>0.0</td>\n",
       "      <td>0.002165</td>\n",
       "      <td>0.002984</td>\n",
       "      <td>0.013849</td>\n",
       "      <td>0.000000</td>\n",
       "      <td>0.666667</td>\n",
       "      <td>0.3625</td>\n",
       "      <td>1.0</td>\n",
       "    </tr>\n",
       "    <tr>\n",
       "      <th>1</th>\n",
       "      <td>0.998648</td>\n",
       "      <td>0.384615</td>\n",
       "      <td>0.195791</td>\n",
       "      <td>0.010562</td>\n",
       "      <td>0.025636</td>\n",
       "      <td>0.000000</td>\n",
       "      <td>0.297297</td>\n",
       "      <td>0.295699</td>\n",
       "      <td>0.0</td>\n",
       "      <td>0.206781</td>\n",
       "      <td>...</td>\n",
       "      <td>1.0</td>\n",
       "      <td>0.0</td>\n",
       "      <td>0.0</td>\n",
       "      <td>0.097552</td>\n",
       "      <td>0.034199</td>\n",
       "      <td>0.009776</td>\n",
       "      <td>0.011857</td>\n",
       "      <td>0.666667</td>\n",
       "      <td>0.2750</td>\n",
       "      <td>1.0</td>\n",
       "    </tr>\n",
       "    <tr>\n",
       "      <th>2</th>\n",
       "      <td>0.999961</td>\n",
       "      <td>0.128846</td>\n",
       "      <td>0.105870</td>\n",
       "      <td>0.005208</td>\n",
       "      <td>0.008889</td>\n",
       "      <td>0.000000</td>\n",
       "      <td>0.216216</td>\n",
       "      <td>0.215054</td>\n",
       "      <td>0.0</td>\n",
       "      <td>0.206781</td>\n",
       "      <td>...</td>\n",
       "      <td>0.0</td>\n",
       "      <td>0.0</td>\n",
       "      <td>0.0</td>\n",
       "      <td>0.041991</td>\n",
       "      <td>0.009479</td>\n",
       "      <td>0.071690</td>\n",
       "      <td>0.000000</td>\n",
       "      <td>0.666667</td>\n",
       "      <td>0.1500</td>\n",
       "      <td>1.0</td>\n",
       "    </tr>\n",
       "    <tr>\n",
       "      <th>3</th>\n",
       "      <td>0.999979</td>\n",
       "      <td>0.497436</td>\n",
       "      <td>0.368578</td>\n",
       "      <td>0.004944</td>\n",
       "      <td>0.027087</td>\n",
       "      <td>0.000000</td>\n",
       "      <td>0.540541</td>\n",
       "      <td>0.537634</td>\n",
       "      <td>0.2</td>\n",
       "      <td>0.206781</td>\n",
       "      <td>...</td>\n",
       "      <td>0.0</td>\n",
       "      <td>0.0</td>\n",
       "      <td>0.0</td>\n",
       "      <td>0.031518</td>\n",
       "      <td>0.047553</td>\n",
       "      <td>0.180855</td>\n",
       "      <td>0.041839</td>\n",
       "      <td>0.833333</td>\n",
       "      <td>0.0875</td>\n",
       "      <td>1.0</td>\n",
       "    </tr>\n",
       "    <tr>\n",
       "      <th>4</th>\n",
       "      <td>0.999979</td>\n",
       "      <td>0.307692</td>\n",
       "      <td>0.237680</td>\n",
       "      <td>0.009551</td>\n",
       "      <td>0.006797</td>\n",
       "      <td>0.052632</td>\n",
       "      <td>0.000000</td>\n",
       "      <td>0.000000</td>\n",
       "      <td>0.0</td>\n",
       "      <td>0.099379</td>\n",
       "      <td>...</td>\n",
       "      <td>1.0</td>\n",
       "      <td>0.0</td>\n",
       "      <td>0.0</td>\n",
       "      <td>0.005978</td>\n",
       "      <td>0.011696</td>\n",
       "      <td>0.031772</td>\n",
       "      <td>0.008746</td>\n",
       "      <td>0.833333</td>\n",
       "      <td>0.1500</td>\n",
       "      <td>1.0</td>\n",
       "    </tr>\n",
       "  </tbody>\n",
       "</table>\n",
       "<p>5 rows × 78 columns</p>\n",
       "</div>"
      ],
      "text/plain": [
       "         id  loan_amnt  installment  annual_inc       dti  delinq_2yrs  \\\n",
       "0  0.999952   0.033333     0.027792    0.001124  0.021632     0.000000   \n",
       "1  0.998648   0.384615     0.195791    0.010562  0.025636     0.000000   \n",
       "2  0.999961   0.128846     0.105870    0.005208  0.008889     0.000000   \n",
       "3  0.999979   0.497436     0.368578    0.004944  0.027087     0.000000   \n",
       "4  0.999979   0.307692     0.237680    0.009551  0.006797     0.052632   \n",
       "\n",
       "   fico_range_low  fico_range_high  inq_last_6mths  mths_since_last_delinq  \\\n",
       "0        0.216216         0.215054             0.2                0.206781   \n",
       "1        0.297297         0.295699             0.0                0.206781   \n",
       "2        0.216216         0.215054             0.0                0.206781   \n",
       "3        0.540541         0.537634             0.2                0.206781   \n",
       "4        0.000000         0.000000             0.0                0.099379   \n",
       "\n",
       "   ...  percent_bc_gt_75  pub_rec_bankruptcies  tax_liens  tot_hi_cred_lim  \\\n",
       "0  ...               1.0                   0.0        0.0         0.002165   \n",
       "1  ...               1.0                   0.0        0.0         0.097552   \n",
       "2  ...               0.0                   0.0        0.0         0.041991   \n",
       "3  ...               0.0                   0.0        0.0         0.031518   \n",
       "4  ...               1.0                   0.0        0.0         0.005978   \n",
       "\n",
       "   total_bal_ex_mort  total_bc_limit  total_il_high_credit_limit     grade  \\\n",
       "0           0.002984        0.013849                    0.000000  0.666667   \n",
       "1           0.034199        0.009776                    0.011857  0.666667   \n",
       "2           0.009479        0.071690                    0.000000  0.666667   \n",
       "3           0.047553        0.180855                    0.041839  0.833333   \n",
       "4           0.011696        0.031772                    0.008746  0.833333   \n",
       "\n",
       "   earliest_cr_line  estado_prestamo  \n",
       "0            0.3625              1.0  \n",
       "1            0.2750              1.0  \n",
       "2            0.1500              1.0  \n",
       "3            0.0875              1.0  \n",
       "4            0.1500              1.0  \n",
       "\n",
       "[5 rows x 78 columns]"
      ]
     },
     "execution_count": 59,
     "metadata": {},
     "output_type": "execute_result"
    }
   ],
   "source": [
    "numericas.head()"
   ]
  },
  {
   "cell_type": "markdown",
   "metadata": {},
   "source": [
    "Concatenamos las dummies a nuestro dataframe:"
   ]
  },
  {
   "cell_type": "code",
   "execution_count": 60,
   "metadata": {},
   "outputs": [
    {
     "data": {
      "text/html": [
       "<div>\n",
       "<style scoped>\n",
       "    .dataframe tbody tr th:only-of-type {\n",
       "        vertical-align: middle;\n",
       "    }\n",
       "\n",
       "    .dataframe tbody tr th {\n",
       "        vertical-align: top;\n",
       "    }\n",
       "\n",
       "    .dataframe thead th {\n",
       "        text-align: right;\n",
       "    }\n",
       "</style>\n",
       "<table border=\"1\" class=\"dataframe\">\n",
       "  <thead>\n",
       "    <tr style=\"text-align: right;\">\n",
       "      <th></th>\n",
       "      <th>id</th>\n",
       "      <th>loan_amnt</th>\n",
       "      <th>installment</th>\n",
       "      <th>annual_inc</th>\n",
       "      <th>dti</th>\n",
       "      <th>delinq_2yrs</th>\n",
       "      <th>fico_range_low</th>\n",
       "      <th>fico_range_high</th>\n",
       "      <th>inq_last_6mths</th>\n",
       "      <th>mths_since_last_delinq</th>\n",
       "      <th>...</th>\n",
       "      <th>purpose_medical</th>\n",
       "      <th>purpose_moving</th>\n",
       "      <th>purpose_other</th>\n",
       "      <th>purpose_renewable_energy</th>\n",
       "      <th>purpose_small_business</th>\n",
       "      <th>purpose_vacation</th>\n",
       "      <th>purpose_wedding</th>\n",
       "      <th>application_type_Individual</th>\n",
       "      <th>application_type_Joint App</th>\n",
       "      <th>grade_y</th>\n",
       "    </tr>\n",
       "  </thead>\n",
       "  <tbody>\n",
       "    <tr>\n",
       "      <th>0</th>\n",
       "      <td>0.999952</td>\n",
       "      <td>0.033333</td>\n",
       "      <td>0.027792</td>\n",
       "      <td>0.001124</td>\n",
       "      <td>0.021632</td>\n",
       "      <td>0.000000</td>\n",
       "      <td>0.216216</td>\n",
       "      <td>0.215054</td>\n",
       "      <td>0.2</td>\n",
       "      <td>0.206781</td>\n",
       "      <td>...</td>\n",
       "      <td>0</td>\n",
       "      <td>0</td>\n",
       "      <td>0</td>\n",
       "      <td>0</td>\n",
       "      <td>0</td>\n",
       "      <td>0</td>\n",
       "      <td>0</td>\n",
       "      <td>1</td>\n",
       "      <td>0</td>\n",
       "      <td>4</td>\n",
       "    </tr>\n",
       "    <tr>\n",
       "      <th>1</th>\n",
       "      <td>0.998648</td>\n",
       "      <td>0.384615</td>\n",
       "      <td>0.195791</td>\n",
       "      <td>0.010562</td>\n",
       "      <td>0.025636</td>\n",
       "      <td>0.000000</td>\n",
       "      <td>0.297297</td>\n",
       "      <td>0.295699</td>\n",
       "      <td>0.0</td>\n",
       "      <td>0.206781</td>\n",
       "      <td>...</td>\n",
       "      <td>0</td>\n",
       "      <td>0</td>\n",
       "      <td>0</td>\n",
       "      <td>0</td>\n",
       "      <td>0</td>\n",
       "      <td>0</td>\n",
       "      <td>0</td>\n",
       "      <td>1</td>\n",
       "      <td>0</td>\n",
       "      <td>4</td>\n",
       "    </tr>\n",
       "    <tr>\n",
       "      <th>2</th>\n",
       "      <td>0.999961</td>\n",
       "      <td>0.128846</td>\n",
       "      <td>0.105870</td>\n",
       "      <td>0.005208</td>\n",
       "      <td>0.008889</td>\n",
       "      <td>0.000000</td>\n",
       "      <td>0.216216</td>\n",
       "      <td>0.215054</td>\n",
       "      <td>0.0</td>\n",
       "      <td>0.206781</td>\n",
       "      <td>...</td>\n",
       "      <td>0</td>\n",
       "      <td>0</td>\n",
       "      <td>0</td>\n",
       "      <td>0</td>\n",
       "      <td>0</td>\n",
       "      <td>0</td>\n",
       "      <td>0</td>\n",
       "      <td>1</td>\n",
       "      <td>0</td>\n",
       "      <td>4</td>\n",
       "    </tr>\n",
       "    <tr>\n",
       "      <th>3</th>\n",
       "      <td>0.999979</td>\n",
       "      <td>0.497436</td>\n",
       "      <td>0.368578</td>\n",
       "      <td>0.004944</td>\n",
       "      <td>0.027087</td>\n",
       "      <td>0.000000</td>\n",
       "      <td>0.540541</td>\n",
       "      <td>0.537634</td>\n",
       "      <td>0.2</td>\n",
       "      <td>0.206781</td>\n",
       "      <td>...</td>\n",
       "      <td>0</td>\n",
       "      <td>0</td>\n",
       "      <td>0</td>\n",
       "      <td>0</td>\n",
       "      <td>0</td>\n",
       "      <td>0</td>\n",
       "      <td>0</td>\n",
       "      <td>1</td>\n",
       "      <td>0</td>\n",
       "      <td>5</td>\n",
       "    </tr>\n",
       "    <tr>\n",
       "      <th>4</th>\n",
       "      <td>0.999979</td>\n",
       "      <td>0.307692</td>\n",
       "      <td>0.237680</td>\n",
       "      <td>0.009551</td>\n",
       "      <td>0.006797</td>\n",
       "      <td>0.052632</td>\n",
       "      <td>0.000000</td>\n",
       "      <td>0.000000</td>\n",
       "      <td>0.0</td>\n",
       "      <td>0.099379</td>\n",
       "      <td>...</td>\n",
       "      <td>0</td>\n",
       "      <td>0</td>\n",
       "      <td>0</td>\n",
       "      <td>0</td>\n",
       "      <td>0</td>\n",
       "      <td>0</td>\n",
       "      <td>0</td>\n",
       "      <td>1</td>\n",
       "      <td>0</td>\n",
       "      <td>5</td>\n",
       "    </tr>\n",
       "  </tbody>\n",
       "</table>\n",
       "<p>5 rows × 104 columns</p>\n",
       "</div>"
      ],
      "text/plain": [
       "         id  loan_amnt  installment  annual_inc       dti  delinq_2yrs  \\\n",
       "0  0.999952   0.033333     0.027792    0.001124  0.021632     0.000000   \n",
       "1  0.998648   0.384615     0.195791    0.010562  0.025636     0.000000   \n",
       "2  0.999961   0.128846     0.105870    0.005208  0.008889     0.000000   \n",
       "3  0.999979   0.497436     0.368578    0.004944  0.027087     0.000000   \n",
       "4  0.999979   0.307692     0.237680    0.009551  0.006797     0.052632   \n",
       "\n",
       "   fico_range_low  fico_range_high  inq_last_6mths  mths_since_last_delinq  \\\n",
       "0        0.216216         0.215054             0.2                0.206781   \n",
       "1        0.297297         0.295699             0.0                0.206781   \n",
       "2        0.216216         0.215054             0.0                0.206781   \n",
       "3        0.540541         0.537634             0.2                0.206781   \n",
       "4        0.000000         0.000000             0.0                0.099379   \n",
       "\n",
       "   ...  purpose_medical  purpose_moving  purpose_other  \\\n",
       "0  ...                0               0              0   \n",
       "1  ...                0               0              0   \n",
       "2  ...                0               0              0   \n",
       "3  ...                0               0              0   \n",
       "4  ...                0               0              0   \n",
       "\n",
       "   purpose_renewable_energy  purpose_small_business  purpose_vacation  \\\n",
       "0                         0                       0                 0   \n",
       "1                         0                       0                 0   \n",
       "2                         0                       0                 0   \n",
       "3                         0                       0                 0   \n",
       "4                         0                       0                 0   \n",
       "\n",
       "   purpose_wedding  application_type_Individual  application_type_Joint App  \\\n",
       "0                0                            1                           0   \n",
       "1                0                            1                           0   \n",
       "2                0                            1                           0   \n",
       "3                0                            1                           0   \n",
       "4                0                            1                           0   \n",
       "\n",
       "   grade_y  \n",
       "0        4  \n",
       "1        4  \n",
       "2        4  \n",
       "3        5  \n",
       "4        5  \n",
       "\n",
       "[5 rows x 104 columns]"
      ]
     },
     "execution_count": 60,
     "metadata": {},
     "output_type": "execute_result"
    }
   ],
   "source": [
    "prestamo_final = pd.merge(numericas, dummies, left_index= True, right_index=True)\n",
    "prestamo_final.head()"
   ]
  },
  {
   "cell_type": "markdown",
   "metadata": {},
   "source": [
    "Y por último lo guardamos en un nuevo CSV para continuar con nuestro analisis:"
   ]
  },
  {
   "cell_type": "code",
   "execution_count": 61,
   "metadata": {},
   "outputs": [],
   "source": [
    "prestamo_final.to_csv('../data/DE_set.csv', index = None, header=True)"
   ]
  },
  {
   "cell_type": "code",
   "execution_count": null,
   "metadata": {},
   "outputs": [],
   "source": []
  },
  {
   "cell_type": "code",
   "execution_count": null,
   "metadata": {},
   "outputs": [],
   "source": []
  }
 ],
 "metadata": {
  "kernelspec": {
   "display_name": "Python 3",
   "language": "python",
   "name": "python3"
  },
  "language_info": {
   "codemirror_mode": {
    "name": "ipython",
    "version": 3
   },
   "file_extension": ".py",
   "mimetype": "text/x-python",
   "name": "python",
   "nbconvert_exporter": "python",
   "pygments_lexer": "ipython3",
   "version": "3.8.3"
  }
 },
 "nbformat": 4,
 "nbformat_minor": 4
}
