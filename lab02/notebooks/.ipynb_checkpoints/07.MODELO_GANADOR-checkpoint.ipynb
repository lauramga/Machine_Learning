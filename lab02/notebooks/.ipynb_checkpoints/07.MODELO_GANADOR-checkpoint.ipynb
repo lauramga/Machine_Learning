{
 "cells": [
  {
   "cell_type": "markdown",
   "metadata": {},
   "source": [
    "## 07.MODELO_GANADOR"
   ]
  },
  {
   "cell_type": "markdown",
   "metadata": {},
   "source": [
    "   "
   ]
  },
  {
   "cell_type": "code",
   "execution_count": 151,
   "metadata": {},
   "outputs": [],
   "source": [
    "# Libraries\n",
    "\n",
    "import numpy as np\n",
    "import pandas as pd\n",
    "\n",
    "# Plots\n",
    "\n",
    "import matplotlib\n",
    "from matplotlib import pyplot as plt \n",
    "import seaborn as sns \n",
    "\n",
    "# Metricas\n",
    "\n",
    "from scipy import stats as sts # normality test JB \n",
    "from sklearn import model_selection, linear_model, metrics\n",
    "from sklearn.linear_model import LogisticRegression\n",
    "from imblearn.over_sampling import SMOTE\n",
    "from sklearn.model_selection import train_test_split # split data\n",
    "from sklearn.metrics import mean_squared_error, classification_report, confusion_matrix, plot_confusion_matrix \n",
    "from sklearn.preprocessing import StandardScaler \n",
    "from sklearn import preprocessing # estandarization\n",
    "from sklearn.ensemble import RandomForestClassifier\n",
    "from sklearn.ensemble import IsolationForest\n",
    "from sklearn.preprocessing import MinMaxScaler\n",
    "from sklearn.impute import KNNImputer\n",
    "import pickle\n",
    "from math import sqrt # sqrt\n",
    "import itertools # aplanar arrays\n",
    "import math\n",
    "\n",
    "import random\n",
    "random.seed(12345)"
   ]
  },
  {
   "cell_type": "markdown",
   "metadata": {},
   "source": [
    "Importamos nuestro dataset:"
   ]
  },
  {
   "cell_type": "code",
   "execution_count": 81,
   "metadata": {},
   "outputs": [
    {
     "name": "stderr",
     "output_type": "stream",
     "text": [
      "/Users/laura/opt/anaconda3/envs/practica_final/lib/python3.8/site-packages/IPython/core/interactiveshell.py:3146: DtypeWarning: Columns (0,145,146,147) have mixed types.Specify dtype option on import or set low_memory=False.\n",
      "  has_raised = await self.run_ast_nodes(code_ast.body, cell_name,\n",
      "/Users/laura/opt/anaconda3/envs/practica_final/lib/python3.8/site-packages/IPython/core/interactiveshell.py:3146: DtypeWarning: Columns (0,129,130,131,134,135,136,139,145,146,147) have mixed types.Specify dtype option on import or set low_memory=False.\n",
      "  has_raised = await self.run_ast_nodes(code_ast.body, cell_name,\n",
      "/Users/laura/opt/anaconda3/envs/practica_final/lib/python3.8/site-packages/IPython/core/interactiveshell.py:3146: DtypeWarning: Columns (0,19,129,130,131,134,135,136,139) have mixed types.Specify dtype option on import or set low_memory=False.\n",
      "  has_raised = await self.run_ast_nodes(code_ast.body, cell_name,\n",
      "/Users/laura/opt/anaconda3/envs/practica_final/lib/python3.8/site-packages/IPython/core/interactiveshell.py:3146: DtypeWarning: Columns (0,19,59) have mixed types.Specify dtype option on import or set low_memory=False.\n",
      "  has_raised = await self.run_ast_nodes(code_ast.body, cell_name,\n"
     ]
    }
   ],
   "source": [
    "d1 = pd.read_csv(\"../data/Loan_training_set_1_4.csv\", header=1)\n",
    "d2 = pd.read_csv(\"../data/Loan_training_set_2_4.csv\", header=1)\n",
    "d3 = pd.read_csv(\"../data/Loan_training_set_3_4.csv\", header=1)\n",
    "d4 = pd.read_csv(\"../data/Loan_training_set_4_4.csv\", header=1)"
   ]
  },
  {
   "cell_type": "code",
   "execution_count": 82,
   "metadata": {},
   "outputs": [],
   "source": [
    "datos = pd.concat([d1, d2], axis=0)"
   ]
  },
  {
   "cell_type": "code",
   "execution_count": 83,
   "metadata": {},
   "outputs": [],
   "source": [
    "datos = pd.concat([datos, d3], axis=0)"
   ]
  },
  {
   "cell_type": "code",
   "execution_count": 84,
   "metadata": {},
   "outputs": [],
   "source": [
    "datos = pd.concat([datos, d4], axis=0)"
   ]
  },
  {
   "cell_type": "code",
   "execution_count": 85,
   "metadata": {},
   "outputs": [],
   "source": [
    "prestamo = datos.head(100000)"
   ]
  },
  {
   "cell_type": "code",
   "execution_count": 86,
   "metadata": {},
   "outputs": [
    {
     "name": "stdout",
     "output_type": "stream",
     "text": [
      "<class 'pandas.core.frame.DataFrame'>\n",
      "Int64Index: 100000 entries, 0 to 99999\n",
      "Columns: 151 entries, id to settlement_term\n",
      "dtypes: float64(111), object(40)\n",
      "memory usage: 116.0+ MB\n"
     ]
    }
   ],
   "source": [
    "prestamo.info()"
   ]
  },
  {
   "cell_type": "markdown",
   "metadata": {},
   "source": [
    "Queremos mantener la mayor cantidad de variables al principio, porque cuantas más variables tenga, más posibilidades tendrá de generar un mejor modelo de predicción. Solo eliminaremos las variables con un porcentaje superior al 805%."
   ]
  },
  {
   "cell_type": "code",
   "execution_count": 87,
   "metadata": {},
   "outputs": [],
   "source": [
    "NaN = pd.DataFrame(round(prestamo.isnull().sum()/len(prestamo.index)*100,2),columns=['null_percent'])"
   ]
  },
  {
   "cell_type": "code",
   "execution_count": 88,
   "metadata": {},
   "outputs": [],
   "source": [
    "Filtro = NaN['null_percent']>80\n",
    "Nulls = NaN[Filtro]\n",
    "prestamo2 = prestamo.drop(list(Nulls.index), axis=1)"
   ]
  },
  {
   "cell_type": "markdown",
   "metadata": {},
   "source": [
    "Comprobamos la dimensión de nuestro dataset:"
   ]
  },
  {
   "cell_type": "code",
   "execution_count": 89,
   "metadata": {
    "scrolled": true
   },
   "outputs": [
    {
     "name": "stdout",
     "output_type": "stream",
     "text": [
      "<class 'pandas.core.frame.DataFrame'>\n",
      "Int64Index: 100000 entries, 0 to 99999\n",
      "Columns: 112 entries, id to debt_settlement_flag\n",
      "dtypes: float64(85), object(27)\n",
      "memory usage: 86.2+ MB\n"
     ]
    }
   ],
   "source": [
    "prestamo2.info()"
   ]
  },
  {
   "cell_type": "markdown",
   "metadata": {},
   "source": [
    "Debido a que cuando se solicita un préstamo no se dispone una determinada información, procedemos a excluir de nuestro analisis las siguientes variables:"
   ]
  },
  {
   "cell_type": "code",
   "execution_count": 90,
   "metadata": {},
   "outputs": [],
   "source": [
    "del prestamo2['sub_grade']\n",
    "del prestamo2['emp_title']\n",
    "del prestamo2['issue_d']\n",
    "del prestamo2['addr_state']\n",
    "del prestamo2['funded_amnt']\n",
    "del prestamo2['funded_amnt_inv']\n",
    "del prestamo2['title']\n",
    "del prestamo2['last_credit_pull_d']\n",
    "del prestamo2['last_pymnt_d']\n",
    "del prestamo2['debt_settlement_flag']\n",
    "del prestamo2['total_pymnt']\n",
    "del prestamo2['total_pymnt_inv']\n",
    "del prestamo2['total_rec_int']\n",
    "del prestamo2['total_rec_late_fee']\n",
    "del prestamo2['total_rec_prncp']\n",
    "del prestamo2['last_pymnt_amnt']\n",
    "del prestamo2['out_prncp']\n",
    "del prestamo2['out_prncp_inv']\n",
    "del prestamo2['hardship_flag']\n",
    "del prestamo2['pymnt_plan']\n",
    "del prestamo2['int_rate']\n",
    "del prestamo2['url']\n",
    "del prestamo2['next_pymnt_d']\n",
    "del prestamo2['revol_util']"
   ]
  },
  {
   "cell_type": "markdown",
   "metadata": {},
   "source": [
    "Debido a que es ilegal pedir el Codigo Postal, eliminamos la variables:\n",
    "    "
   ]
  },
  {
   "cell_type": "code",
   "execution_count": 91,
   "metadata": {},
   "outputs": [],
   "source": [
    "del prestamo2['zip_code']"
   ]
  },
  {
   "cell_type": "markdown",
   "metadata": {},
   "source": [
    "No nos importa si el préstamo se otorgó total o parcialmente así que procemos a eliminar 'initial_list_status'."
   ]
  },
  {
   "cell_type": "code",
   "execution_count": 92,
   "metadata": {},
   "outputs": [],
   "source": [
    "del prestamo2['initial_list_status']"
   ]
  },
  {
   "cell_type": "markdown",
   "metadata": {},
   "source": [
    "Por el mismo motivo eliminamos 'disbursement_method'."
   ]
  },
  {
   "cell_type": "code",
   "execution_count": 93,
   "metadata": {},
   "outputs": [],
   "source": [
    "del prestamo2['disbursement_method']"
   ]
  },
  {
   "cell_type": "markdown",
   "metadata": {},
   "source": [
    "Calculamos el procentaje de NAs:"
   ]
  },
  {
   "cell_type": "code",
   "execution_count": 94,
   "metadata": {},
   "outputs": [
    {
     "data": {
      "text/plain": [
       "mths_since_recent_bc_dlq          0.75939\n",
       "mths_since_last_major_derog       0.72399\n",
       "mths_since_recent_revol_delinq    0.64884\n",
       "mths_since_last_delinq            0.48469\n",
       "il_util                           0.12674\n",
       "mths_since_recent_inq             0.11366\n",
       "emp_length                        0.06302\n",
       "num_tl_120dpd_2m                  0.04925\n",
       "mo_sin_old_il_acct                0.02521\n",
       "mths_since_rcnt_il                0.02521\n",
       "bc_util                           0.01128\n",
       "percent_bc_gt_75                  0.01087\n",
       "bc_open_to_buy                    0.01084\n",
       "mths_since_recent_bc              0.01027\n",
       "dti                               0.00069\n",
       "all_util                          0.00012\n",
       "avg_cur_bal                       0.00002\n",
       "last_fico_range_low               0.00000\n",
       "collections_12_mths_ex_med        0.00000\n",
       "recoveries                        0.00000\n",
       "dtype: float64"
      ]
     },
     "execution_count": 94,
     "metadata": {},
     "output_type": "execute_result"
    }
   ],
   "source": [
    "porcentaje_NaN = prestamo2.apply(lambda x: sum(x.isna()/len(prestamo2)))\n",
    "porcentaje_NaN.sort_values(ascending = False).head(20)"
   ]
  },
  {
   "cell_type": "markdown",
   "metadata": {},
   "source": [
    "A continuación vamos a dividir nuestro dataset entre variables categóricas y númericas:"
   ]
  },
  {
   "cell_type": "code",
   "execution_count": 95,
   "metadata": {},
   "outputs": [],
   "source": [
    "numericas = prestamo2.select_dtypes(include = [np.number])\n",
    "categoricas = prestamo2.select_dtypes(include = [np.object])"
   ]
  },
  {
   "cell_type": "code",
   "execution_count": 96,
   "metadata": {},
   "outputs": [
    {
     "name": "stdout",
     "output_type": "stream",
     "text": [
      "<class 'pandas.core.frame.DataFrame'>\n",
      "Int64Index: 100000 entries, 0 to 99999\n",
      "Data columns (total 75 columns):\n",
      " #   Column                          Non-Null Count   Dtype  \n",
      "---  ------                          --------------   -----  \n",
      " 0   loan_amnt                       100000 non-null  float64\n",
      " 1   installment                     100000 non-null  float64\n",
      " 2   annual_inc                      100000 non-null  float64\n",
      " 3   dti                             99931 non-null   float64\n",
      " 4   delinq_2yrs                     100000 non-null  float64\n",
      " 5   fico_range_low                  100000 non-null  float64\n",
      " 6   fico_range_high                 100000 non-null  float64\n",
      " 7   inq_last_6mths                  100000 non-null  float64\n",
      " 8   mths_since_last_delinq          51531 non-null   float64\n",
      " 9   open_acc                        100000 non-null  float64\n",
      " 10  pub_rec                         100000 non-null  float64\n",
      " 11  revol_bal                       100000 non-null  float64\n",
      " 12  total_acc                       100000 non-null  float64\n",
      " 13  recoveries                      100000 non-null  float64\n",
      " 14  collection_recovery_fee         100000 non-null  float64\n",
      " 15  last_fico_range_high            100000 non-null  float64\n",
      " 16  last_fico_range_low             100000 non-null  float64\n",
      " 17  collections_12_mths_ex_med      100000 non-null  float64\n",
      " 18  mths_since_last_major_derog     27601 non-null   float64\n",
      " 19  policy_code                     100000 non-null  float64\n",
      " 20  acc_now_delinq                  100000 non-null  float64\n",
      " 21  tot_coll_amt                    100000 non-null  float64\n",
      " 22  tot_cur_bal                     100000 non-null  float64\n",
      " 23  open_acc_6m                     100000 non-null  float64\n",
      " 24  open_act_il                     100000 non-null  float64\n",
      " 25  open_il_12m                     100000 non-null  float64\n",
      " 26  open_il_24m                     100000 non-null  float64\n",
      " 27  mths_since_rcnt_il              97479 non-null   float64\n",
      " 28  total_bal_il                    100000 non-null  float64\n",
      " 29  il_util                         87326 non-null   float64\n",
      " 30  open_rv_12m                     100000 non-null  float64\n",
      " 31  open_rv_24m                     100000 non-null  float64\n",
      " 32  max_bal_bc                      100000 non-null  float64\n",
      " 33  all_util                        99988 non-null   float64\n",
      " 34  total_rev_hi_lim                100000 non-null  float64\n",
      " 35  inq_fi                          100000 non-null  float64\n",
      " 36  total_cu_tl                     100000 non-null  float64\n",
      " 37  inq_last_12m                    100000 non-null  float64\n",
      " 38  acc_open_past_24mths            100000 non-null  float64\n",
      " 39  avg_cur_bal                     99998 non-null   float64\n",
      " 40  bc_open_to_buy                  98916 non-null   float64\n",
      " 41  bc_util                         98872 non-null   float64\n",
      " 42  chargeoff_within_12_mths        100000 non-null  float64\n",
      " 43  delinq_amnt                     100000 non-null  float64\n",
      " 44  mo_sin_old_il_acct              97479 non-null   float64\n",
      " 45  mo_sin_old_rev_tl_op            100000 non-null  float64\n",
      " 46  mo_sin_rcnt_rev_tl_op           100000 non-null  float64\n",
      " 47  mo_sin_rcnt_tl                  100000 non-null  float64\n",
      " 48  mort_acc                        100000 non-null  float64\n",
      " 49  mths_since_recent_bc            98973 non-null   float64\n",
      " 50  mths_since_recent_bc_dlq        24061 non-null   float64\n",
      " 51  mths_since_recent_inq           88634 non-null   float64\n",
      " 52  mths_since_recent_revol_delinq  35116 non-null   float64\n",
      " 53  num_accts_ever_120_pd           100000 non-null  float64\n",
      " 54  num_actv_bc_tl                  100000 non-null  float64\n",
      " 55  num_actv_rev_tl                 100000 non-null  float64\n",
      " 56  num_bc_sats                     100000 non-null  float64\n",
      " 57  num_bc_tl                       100000 non-null  float64\n",
      " 58  num_il_tl                       100000 non-null  float64\n",
      " 59  num_op_rev_tl                   100000 non-null  float64\n",
      " 60  num_rev_accts                   100000 non-null  float64\n",
      " 61  num_rev_tl_bal_gt_0             100000 non-null  float64\n",
      " 62  num_sats                        100000 non-null  float64\n",
      " 63  num_tl_120dpd_2m                95075 non-null   float64\n",
      " 64  num_tl_30dpd                    100000 non-null  float64\n",
      " 65  num_tl_90g_dpd_24m              100000 non-null  float64\n",
      " 66  num_tl_op_past_12m              100000 non-null  float64\n",
      " 67  pct_tl_nvr_dlq                  100000 non-null  float64\n",
      " 68  percent_bc_gt_75                98913 non-null   float64\n",
      " 69  pub_rec_bankruptcies            100000 non-null  float64\n",
      " 70  tax_liens                       100000 non-null  float64\n",
      " 71  tot_hi_cred_lim                 100000 non-null  float64\n",
      " 72  total_bal_ex_mort               100000 non-null  float64\n",
      " 73  total_bc_limit                  100000 non-null  float64\n",
      " 74  total_il_high_credit_limit      100000 non-null  float64\n",
      "dtypes: float64(75)\n",
      "memory usage: 58.0 MB\n"
     ]
    }
   ],
   "source": [
    "numericas.info()"
   ]
  },
  {
   "cell_type": "code",
   "execution_count": 97,
   "metadata": {},
   "outputs": [
    {
     "name": "stdout",
     "output_type": "stream",
     "text": [
      "<class 'pandas.core.frame.DataFrame'>\n",
      "Int64Index: 100000 entries, 0 to 99999\n",
      "Data columns (total 10 columns):\n",
      " #   Column               Non-Null Count   Dtype \n",
      "---  ------               --------------   ----- \n",
      " 0   id                   100000 non-null  object\n",
      " 1   term                 100000 non-null  object\n",
      " 2   grade                100000 non-null  object\n",
      " 3   emp_length           93698 non-null   object\n",
      " 4   home_ownership       100000 non-null  object\n",
      " 5   verification_status  100000 non-null  object\n",
      " 6   loan_status          100000 non-null  object\n",
      " 7   purpose              100000 non-null  object\n",
      " 8   earliest_cr_line     100000 non-null  object\n",
      " 9   application_type     100000 non-null  object\n",
      "dtypes: object(10)\n",
      "memory usage: 8.4+ MB\n"
     ]
    }
   ],
   "source": [
    "categoricas.info()"
   ]
  },
  {
   "cell_type": "code",
   "execution_count": 98,
   "metadata": {},
   "outputs": [
    {
     "data": {
      "text/plain": [
       "id                     100000\n",
       "term                        2\n",
       "grade                       7\n",
       "emp_length                 11\n",
       "home_ownership              5\n",
       "verification_status         3\n",
       "loan_status                 7\n",
       "purpose                    13\n",
       "earliest_cr_line          627\n",
       "application_type            2\n",
       "dtype: int64"
      ]
     },
     "execution_count": 98,
     "metadata": {},
     "output_type": "execute_result"
    }
   ],
   "source": [
    "categoricas.nunique()"
   ]
  },
  {
   "cell_type": "markdown",
   "metadata": {},
   "source": [
    "A las variables númericas vamos a imputarles la media a los NAs."
   ]
  },
  {
   "cell_type": "code",
   "execution_count": 99,
   "metadata": {},
   "outputs": [],
   "source": [
    "numericas = numericas.apply(lambda x: x.replace(\"\", np.nan))\n",
    "numericas = numericas.apply(lambda x: x.fillna(x.mean()))"
   ]
  },
  {
   "cell_type": "code",
   "execution_count": 100,
   "metadata": {},
   "outputs": [
    {
     "name": "stdout",
     "output_type": "stream",
     "text": [
      "<class 'pandas.core.frame.DataFrame'>\n",
      "Int64Index: 100000 entries, 0 to 99999\n",
      "Data columns (total 75 columns):\n",
      " #   Column                          Non-Null Count   Dtype  \n",
      "---  ------                          --------------   -----  \n",
      " 0   loan_amnt                       100000 non-null  float64\n",
      " 1   installment                     100000 non-null  float64\n",
      " 2   annual_inc                      100000 non-null  float64\n",
      " 3   dti                             100000 non-null  float64\n",
      " 4   delinq_2yrs                     100000 non-null  float64\n",
      " 5   fico_range_low                  100000 non-null  float64\n",
      " 6   fico_range_high                 100000 non-null  float64\n",
      " 7   inq_last_6mths                  100000 non-null  float64\n",
      " 8   mths_since_last_delinq          100000 non-null  float64\n",
      " 9   open_acc                        100000 non-null  float64\n",
      " 10  pub_rec                         100000 non-null  float64\n",
      " 11  revol_bal                       100000 non-null  float64\n",
      " 12  total_acc                       100000 non-null  float64\n",
      " 13  recoveries                      100000 non-null  float64\n",
      " 14  collection_recovery_fee         100000 non-null  float64\n",
      " 15  last_fico_range_high            100000 non-null  float64\n",
      " 16  last_fico_range_low             100000 non-null  float64\n",
      " 17  collections_12_mths_ex_med      100000 non-null  float64\n",
      " 18  mths_since_last_major_derog     100000 non-null  float64\n",
      " 19  policy_code                     100000 non-null  float64\n",
      " 20  acc_now_delinq                  100000 non-null  float64\n",
      " 21  tot_coll_amt                    100000 non-null  float64\n",
      " 22  tot_cur_bal                     100000 non-null  float64\n",
      " 23  open_acc_6m                     100000 non-null  float64\n",
      " 24  open_act_il                     100000 non-null  float64\n",
      " 25  open_il_12m                     100000 non-null  float64\n",
      " 26  open_il_24m                     100000 non-null  float64\n",
      " 27  mths_since_rcnt_il              100000 non-null  float64\n",
      " 28  total_bal_il                    100000 non-null  float64\n",
      " 29  il_util                         100000 non-null  float64\n",
      " 30  open_rv_12m                     100000 non-null  float64\n",
      " 31  open_rv_24m                     100000 non-null  float64\n",
      " 32  max_bal_bc                      100000 non-null  float64\n",
      " 33  all_util                        100000 non-null  float64\n",
      " 34  total_rev_hi_lim                100000 non-null  float64\n",
      " 35  inq_fi                          100000 non-null  float64\n",
      " 36  total_cu_tl                     100000 non-null  float64\n",
      " 37  inq_last_12m                    100000 non-null  float64\n",
      " 38  acc_open_past_24mths            100000 non-null  float64\n",
      " 39  avg_cur_bal                     100000 non-null  float64\n",
      " 40  bc_open_to_buy                  100000 non-null  float64\n",
      " 41  bc_util                         100000 non-null  float64\n",
      " 42  chargeoff_within_12_mths        100000 non-null  float64\n",
      " 43  delinq_amnt                     100000 non-null  float64\n",
      " 44  mo_sin_old_il_acct              100000 non-null  float64\n",
      " 45  mo_sin_old_rev_tl_op            100000 non-null  float64\n",
      " 46  mo_sin_rcnt_rev_tl_op           100000 non-null  float64\n",
      " 47  mo_sin_rcnt_tl                  100000 non-null  float64\n",
      " 48  mort_acc                        100000 non-null  float64\n",
      " 49  mths_since_recent_bc            100000 non-null  float64\n",
      " 50  mths_since_recent_bc_dlq        100000 non-null  float64\n",
      " 51  mths_since_recent_inq           100000 non-null  float64\n",
      " 52  mths_since_recent_revol_delinq  100000 non-null  float64\n",
      " 53  num_accts_ever_120_pd           100000 non-null  float64\n",
      " 54  num_actv_bc_tl                  100000 non-null  float64\n",
      " 55  num_actv_rev_tl                 100000 non-null  float64\n",
      " 56  num_bc_sats                     100000 non-null  float64\n",
      " 57  num_bc_tl                       100000 non-null  float64\n",
      " 58  num_il_tl                       100000 non-null  float64\n",
      " 59  num_op_rev_tl                   100000 non-null  float64\n",
      " 60  num_rev_accts                   100000 non-null  float64\n",
      " 61  num_rev_tl_bal_gt_0             100000 non-null  float64\n",
      " 62  num_sats                        100000 non-null  float64\n",
      " 63  num_tl_120dpd_2m                100000 non-null  float64\n",
      " 64  num_tl_30dpd                    100000 non-null  float64\n",
      " 65  num_tl_90g_dpd_24m              100000 non-null  float64\n",
      " 66  num_tl_op_past_12m              100000 non-null  float64\n",
      " 67  pct_tl_nvr_dlq                  100000 non-null  float64\n",
      " 68  percent_bc_gt_75                100000 non-null  float64\n",
      " 69  pub_rec_bankruptcies            100000 non-null  float64\n",
      " 70  tax_liens                       100000 non-null  float64\n",
      " 71  tot_hi_cred_lim                 100000 non-null  float64\n",
      " 72  total_bal_ex_mort               100000 non-null  float64\n",
      " 73  total_bc_limit                  100000 non-null  float64\n",
      " 74  total_il_high_credit_limit      100000 non-null  float64\n",
      "dtypes: float64(75)\n",
      "memory usage: 58.0 MB\n"
     ]
    }
   ],
   "source": [
    "numericas.info()"
   ]
  },
  {
   "cell_type": "markdown",
   "metadata": {},
   "source": [
    "A las variables categóricas vamos a imputarles la moda a los NAs."
   ]
  },
  {
   "cell_type": "code",
   "execution_count": 101,
   "metadata": {},
   "outputs": [],
   "source": [
    "categoricas = categoricas.apply(lambda x: x.replace(\"\", np.nan))\n",
    "categoricas = categoricas.apply(lambda x: x.fillna(x.value_counts().index[0]))"
   ]
  },
  {
   "cell_type": "code",
   "execution_count": 102,
   "metadata": {},
   "outputs": [
    {
     "name": "stdout",
     "output_type": "stream",
     "text": [
      "<class 'pandas.core.frame.DataFrame'>\n",
      "Int64Index: 100000 entries, 0 to 99999\n",
      "Data columns (total 10 columns):\n",
      " #   Column               Non-Null Count   Dtype \n",
      "---  ------               --------------   ----- \n",
      " 0   id                   100000 non-null  int64 \n",
      " 1   term                 100000 non-null  object\n",
      " 2   grade                100000 non-null  object\n",
      " 3   emp_length           100000 non-null  object\n",
      " 4   home_ownership       100000 non-null  object\n",
      " 5   verification_status  100000 non-null  object\n",
      " 6   loan_status          100000 non-null  object\n",
      " 7   purpose              100000 non-null  object\n",
      " 8   earliest_cr_line     100000 non-null  object\n",
      " 9   application_type     100000 non-null  object\n",
      "dtypes: int64(1), object(9)\n",
      "memory usage: 8.4+ MB\n"
     ]
    }
   ],
   "source": [
    "categoricas.info()"
   ]
  },
  {
   "cell_type": "code",
   "execution_count": 103,
   "metadata": {},
   "outputs": [],
   "source": [
    "prestamo3 = pd.concat([numericas, categoricas], axis = 1)"
   ]
  },
  {
   "cell_type": "code",
   "execution_count": 104,
   "metadata": {},
   "outputs": [
    {
     "data": {
      "text/html": [
       "<div>\n",
       "<style scoped>\n",
       "    .dataframe tbody tr th:only-of-type {\n",
       "        vertical-align: middle;\n",
       "    }\n",
       "\n",
       "    .dataframe tbody tr th {\n",
       "        vertical-align: top;\n",
       "    }\n",
       "\n",
       "    .dataframe thead th {\n",
       "        text-align: right;\n",
       "    }\n",
       "</style>\n",
       "<table border=\"1\" class=\"dataframe\">\n",
       "  <thead>\n",
       "    <tr style=\"text-align: right;\">\n",
       "      <th></th>\n",
       "      <th>loan_amnt</th>\n",
       "      <th>installment</th>\n",
       "      <th>annual_inc</th>\n",
       "      <th>dti</th>\n",
       "      <th>delinq_2yrs</th>\n",
       "      <th>fico_range_low</th>\n",
       "      <th>fico_range_high</th>\n",
       "      <th>inq_last_6mths</th>\n",
       "      <th>mths_since_last_delinq</th>\n",
       "      <th>open_acc</th>\n",
       "      <th>...</th>\n",
       "      <th>id</th>\n",
       "      <th>term</th>\n",
       "      <th>grade</th>\n",
       "      <th>emp_length</th>\n",
       "      <th>home_ownership</th>\n",
       "      <th>verification_status</th>\n",
       "      <th>loan_status</th>\n",
       "      <th>purpose</th>\n",
       "      <th>earliest_cr_line</th>\n",
       "      <th>application_type</th>\n",
       "    </tr>\n",
       "  </thead>\n",
       "  <tbody>\n",
       "    <tr>\n",
       "      <th>0</th>\n",
       "      <td>2300.0</td>\n",
       "      <td>77.08</td>\n",
       "      <td>10000.00</td>\n",
       "      <td>21.61</td>\n",
       "      <td>0.0</td>\n",
       "      <td>700.0</td>\n",
       "      <td>704.0</td>\n",
       "      <td>1.0</td>\n",
       "      <td>33.291688</td>\n",
       "      <td>4.0</td>\n",
       "      <td>...</td>\n",
       "      <td>112435993</td>\n",
       "      <td>36 months</td>\n",
       "      <td>C</td>\n",
       "      <td>10+ years</td>\n",
       "      <td>OWN</td>\n",
       "      <td>Not Verified</td>\n",
       "      <td>Current</td>\n",
       "      <td>credit_card</td>\n",
       "      <td>Sep-1985</td>\n",
       "      <td>Individual</td>\n",
       "    </tr>\n",
       "    <tr>\n",
       "      <th>1</th>\n",
       "      <td>16000.0</td>\n",
       "      <td>360.95</td>\n",
       "      <td>94000.00</td>\n",
       "      <td>25.61</td>\n",
       "      <td>0.0</td>\n",
       "      <td>715.0</td>\n",
       "      <td>719.0</td>\n",
       "      <td>0.0</td>\n",
       "      <td>33.291688</td>\n",
       "      <td>9.0</td>\n",
       "      <td>...</td>\n",
       "      <td>112290210</td>\n",
       "      <td>60 months</td>\n",
       "      <td>C</td>\n",
       "      <td>10+ years</td>\n",
       "      <td>MORTGAGE</td>\n",
       "      <td>Not Verified</td>\n",
       "      <td>Current</td>\n",
       "      <td>debt_consolidation</td>\n",
       "      <td>Jun-1992</td>\n",
       "      <td>Individual</td>\n",
       "    </tr>\n",
       "    <tr>\n",
       "      <th>2</th>\n",
       "      <td>6025.0</td>\n",
       "      <td>209.01</td>\n",
       "      <td>46350.00</td>\n",
       "      <td>8.88</td>\n",
       "      <td>0.0</td>\n",
       "      <td>700.0</td>\n",
       "      <td>704.0</td>\n",
       "      <td>0.0</td>\n",
       "      <td>33.291688</td>\n",
       "      <td>11.0</td>\n",
       "      <td>...</td>\n",
       "      <td>112436985</td>\n",
       "      <td>36 months</td>\n",
       "      <td>C</td>\n",
       "      <td>7 years</td>\n",
       "      <td>MORTGAGE</td>\n",
       "      <td>Not Verified</td>\n",
       "      <td>Current</td>\n",
       "      <td>home_improvement</td>\n",
       "      <td>Jun-2002</td>\n",
       "      <td>Individual</td>\n",
       "    </tr>\n",
       "    <tr>\n",
       "      <th>3</th>\n",
       "      <td>20400.0</td>\n",
       "      <td>652.91</td>\n",
       "      <td>44000.00</td>\n",
       "      <td>27.06</td>\n",
       "      <td>0.0</td>\n",
       "      <td>760.0</td>\n",
       "      <td>764.0</td>\n",
       "      <td>1.0</td>\n",
       "      <td>33.291688</td>\n",
       "      <td>15.0</td>\n",
       "      <td>...</td>\n",
       "      <td>112439006</td>\n",
       "      <td>36 months</td>\n",
       "      <td>B</td>\n",
       "      <td>10+ years</td>\n",
       "      <td>RENT</td>\n",
       "      <td>Source Verified</td>\n",
       "      <td>Current</td>\n",
       "      <td>car</td>\n",
       "      <td>Jan-2007</td>\n",
       "      <td>Individual</td>\n",
       "    </tr>\n",
       "    <tr>\n",
       "      <th>4</th>\n",
       "      <td>13000.0</td>\n",
       "      <td>431.73</td>\n",
       "      <td>85000.00</td>\n",
       "      <td>6.79</td>\n",
       "      <td>1.0</td>\n",
       "      <td>660.0</td>\n",
       "      <td>664.0</td>\n",
       "      <td>0.0</td>\n",
       "      <td>16.000000</td>\n",
       "      <td>5.0</td>\n",
       "      <td>...</td>\n",
       "      <td>112438929</td>\n",
       "      <td>36 months</td>\n",
       "      <td>B</td>\n",
       "      <td>10+ years</td>\n",
       "      <td>MORTGAGE</td>\n",
       "      <td>Source Verified</td>\n",
       "      <td>Current</td>\n",
       "      <td>debt_consolidation</td>\n",
       "      <td>Feb-2002</td>\n",
       "      <td>Individual</td>\n",
       "    </tr>\n",
       "    <tr>\n",
       "      <th>5</th>\n",
       "      <td>12000.0</td>\n",
       "      <td>384.06</td>\n",
       "      <td>70000.00</td>\n",
       "      <td>18.34</td>\n",
       "      <td>0.0</td>\n",
       "      <td>670.0</td>\n",
       "      <td>674.0</td>\n",
       "      <td>0.0</td>\n",
       "      <td>35.000000</td>\n",
       "      <td>14.0</td>\n",
       "      <td>...</td>\n",
       "      <td>112230200</td>\n",
       "      <td>36 months</td>\n",
       "      <td>B</td>\n",
       "      <td>10+ years</td>\n",
       "      <td>MORTGAGE</td>\n",
       "      <td>Not Verified</td>\n",
       "      <td>Current</td>\n",
       "      <td>debt_consolidation</td>\n",
       "      <td>Aug-1997</td>\n",
       "      <td>Individual</td>\n",
       "    </tr>\n",
       "    <tr>\n",
       "      <th>6</th>\n",
       "      <td>6000.0</td>\n",
       "      <td>194.79</td>\n",
       "      <td>37107.19</td>\n",
       "      <td>30.63</td>\n",
       "      <td>0.0</td>\n",
       "      <td>680.0</td>\n",
       "      <td>684.0</td>\n",
       "      <td>0.0</td>\n",
       "      <td>70.000000</td>\n",
       "      <td>10.0</td>\n",
       "      <td>...</td>\n",
       "      <td>112210041</td>\n",
       "      <td>36 months</td>\n",
       "      <td>B</td>\n",
       "      <td>7 years</td>\n",
       "      <td>MORTGAGE</td>\n",
       "      <td>Source Verified</td>\n",
       "      <td>Current</td>\n",
       "      <td>medical</td>\n",
       "      <td>Mar-1992</td>\n",
       "      <td>Individual</td>\n",
       "    </tr>\n",
       "    <tr>\n",
       "      <th>7</th>\n",
       "      <td>12000.0</td>\n",
       "      <td>285.80</td>\n",
       "      <td>69800.00</td>\n",
       "      <td>31.43</td>\n",
       "      <td>0.0</td>\n",
       "      <td>690.0</td>\n",
       "      <td>694.0</td>\n",
       "      <td>1.0</td>\n",
       "      <td>33.291688</td>\n",
       "      <td>10.0</td>\n",
       "      <td>...</td>\n",
       "      <td>112360031</td>\n",
       "      <td>60 months</td>\n",
       "      <td>C</td>\n",
       "      <td>6 years</td>\n",
       "      <td>RENT</td>\n",
       "      <td>Not Verified</td>\n",
       "      <td>Current</td>\n",
       "      <td>debt_consolidation</td>\n",
       "      <td>Feb-2006</td>\n",
       "      <td>Individual</td>\n",
       "    </tr>\n",
       "    <tr>\n",
       "      <th>8</th>\n",
       "      <td>11575.0</td>\n",
       "      <td>359.26</td>\n",
       "      <td>153000.00</td>\n",
       "      <td>16.99</td>\n",
       "      <td>0.0</td>\n",
       "      <td>720.0</td>\n",
       "      <td>724.0</td>\n",
       "      <td>0.0</td>\n",
       "      <td>24.000000</td>\n",
       "      <td>20.0</td>\n",
       "      <td>...</td>\n",
       "      <td>112038251</td>\n",
       "      <td>36 months</td>\n",
       "      <td>A</td>\n",
       "      <td>6 years</td>\n",
       "      <td>OWN</td>\n",
       "      <td>Not Verified</td>\n",
       "      <td>Fully Paid</td>\n",
       "      <td>credit_card</td>\n",
       "      <td>Jul-1994</td>\n",
       "      <td>Individual</td>\n",
       "    </tr>\n",
       "    <tr>\n",
       "      <th>9</th>\n",
       "      <td>20400.0</td>\n",
       "      <td>413.35</td>\n",
       "      <td>110000.00</td>\n",
       "      <td>11.07</td>\n",
       "      <td>0.0</td>\n",
       "      <td>780.0</td>\n",
       "      <td>784.0</td>\n",
       "      <td>1.0</td>\n",
       "      <td>40.000000</td>\n",
       "      <td>8.0</td>\n",
       "      <td>...</td>\n",
       "      <td>112134207</td>\n",
       "      <td>60 months</td>\n",
       "      <td>A</td>\n",
       "      <td>10+ years</td>\n",
       "      <td>MORTGAGE</td>\n",
       "      <td>Not Verified</td>\n",
       "      <td>Current</td>\n",
       "      <td>major_purchase</td>\n",
       "      <td>May-1987</td>\n",
       "      <td>Individual</td>\n",
       "    </tr>\n",
       "  </tbody>\n",
       "</table>\n",
       "<p>10 rows × 85 columns</p>\n",
       "</div>"
      ],
      "text/plain": [
       "   loan_amnt  installment  annual_inc    dti  delinq_2yrs  fico_range_low  \\\n",
       "0     2300.0        77.08    10000.00  21.61          0.0           700.0   \n",
       "1    16000.0       360.95    94000.00  25.61          0.0           715.0   \n",
       "2     6025.0       209.01    46350.00   8.88          0.0           700.0   \n",
       "3    20400.0       652.91    44000.00  27.06          0.0           760.0   \n",
       "4    13000.0       431.73    85000.00   6.79          1.0           660.0   \n",
       "5    12000.0       384.06    70000.00  18.34          0.0           670.0   \n",
       "6     6000.0       194.79    37107.19  30.63          0.0           680.0   \n",
       "7    12000.0       285.80    69800.00  31.43          0.0           690.0   \n",
       "8    11575.0       359.26   153000.00  16.99          0.0           720.0   \n",
       "9    20400.0       413.35   110000.00  11.07          0.0           780.0   \n",
       "\n",
       "   fico_range_high  inq_last_6mths  mths_since_last_delinq  open_acc  ...  \\\n",
       "0            704.0             1.0               33.291688       4.0  ...   \n",
       "1            719.0             0.0               33.291688       9.0  ...   \n",
       "2            704.0             0.0               33.291688      11.0  ...   \n",
       "3            764.0             1.0               33.291688      15.0  ...   \n",
       "4            664.0             0.0               16.000000       5.0  ...   \n",
       "5            674.0             0.0               35.000000      14.0  ...   \n",
       "6            684.0             0.0               70.000000      10.0  ...   \n",
       "7            694.0             1.0               33.291688      10.0  ...   \n",
       "8            724.0             0.0               24.000000      20.0  ...   \n",
       "9            784.0             1.0               40.000000       8.0  ...   \n",
       "\n",
       "          id        term  grade  emp_length  home_ownership  \\\n",
       "0  112435993   36 months      C   10+ years             OWN   \n",
       "1  112290210   60 months      C   10+ years        MORTGAGE   \n",
       "2  112436985   36 months      C     7 years        MORTGAGE   \n",
       "3  112439006   36 months      B   10+ years            RENT   \n",
       "4  112438929   36 months      B   10+ years        MORTGAGE   \n",
       "5  112230200   36 months      B   10+ years        MORTGAGE   \n",
       "6  112210041   36 months      B     7 years        MORTGAGE   \n",
       "7  112360031   60 months      C     6 years            RENT   \n",
       "8  112038251   36 months      A     6 years             OWN   \n",
       "9  112134207   60 months      A   10+ years        MORTGAGE   \n",
       "\n",
       "   verification_status  loan_status             purpose  earliest_cr_line  \\\n",
       "0         Not Verified      Current         credit_card          Sep-1985   \n",
       "1         Not Verified      Current  debt_consolidation          Jun-1992   \n",
       "2         Not Verified      Current    home_improvement          Jun-2002   \n",
       "3      Source Verified      Current                 car          Jan-2007   \n",
       "4      Source Verified      Current  debt_consolidation          Feb-2002   \n",
       "5         Not Verified      Current  debt_consolidation          Aug-1997   \n",
       "6      Source Verified      Current             medical          Mar-1992   \n",
       "7         Not Verified      Current  debt_consolidation          Feb-2006   \n",
       "8         Not Verified   Fully Paid         credit_card          Jul-1994   \n",
       "9         Not Verified      Current      major_purchase          May-1987   \n",
       "\n",
       "   application_type  \n",
       "0        Individual  \n",
       "1        Individual  \n",
       "2        Individual  \n",
       "3        Individual  \n",
       "4        Individual  \n",
       "5        Individual  \n",
       "6        Individual  \n",
       "7        Individual  \n",
       "8        Individual  \n",
       "9        Individual  \n",
       "\n",
       "[10 rows x 85 columns]"
      ]
     },
     "execution_count": 104,
     "metadata": {},
     "output_type": "execute_result"
    }
   ],
   "source": [
    "prestamo3.head(10)"
   ]
  },
  {
   "cell_type": "markdown",
   "metadata": {},
   "source": [
    "A continuación vamos a dividir la siguiente variable para poder trabajar con ella:"
   ]
  },
  {
   "cell_type": "code",
   "execution_count": 105,
   "metadata": {},
   "outputs": [],
   "source": [
    "x = prestamo3['earliest_cr_line'] # la duplicamos"
   ]
  },
  {
   "cell_type": "code",
   "execution_count": 106,
   "metadata": {},
   "outputs": [],
   "source": [
    "x = x.astype(str) # convert to string"
   ]
  },
  {
   "cell_type": "code",
   "execution_count": 107,
   "metadata": {},
   "outputs": [
    {
     "data": {
      "text/plain": [
       "100000"
      ]
     },
     "execution_count": 107,
     "metadata": {},
     "output_type": "execute_result"
    }
   ],
   "source": [
    "len(x) "
   ]
  },
  {
   "cell_type": "code",
   "execution_count": 108,
   "metadata": {},
   "outputs": [],
   "source": [
    "x = x.map(lambda x: x.split('-'))"
   ]
  },
  {
   "cell_type": "code",
   "execution_count": 109,
   "metadata": {},
   "outputs": [
    {
     "data": {
      "text/plain": [
       "['Jun', '2002']"
      ]
     },
     "execution_count": 109,
     "metadata": {},
     "output_type": "execute_result"
    }
   ],
   "source": [
    "x.iloc[2]"
   ]
  },
  {
   "cell_type": "code",
   "execution_count": 110,
   "metadata": {},
   "outputs": [
    {
     "data": {
      "text/plain": [
       "['Sep', '2013']"
      ]
     },
     "execution_count": 110,
     "metadata": {},
     "output_type": "execute_result"
    }
   ],
   "source": [
    "x.max()"
   ]
  },
  {
   "cell_type": "code",
   "execution_count": 111,
   "metadata": {},
   "outputs": [],
   "source": [
    "x = x.map(lambda x: 2019 - int(x[1]))"
   ]
  },
  {
   "cell_type": "code",
   "execution_count": 112,
   "metadata": {},
   "outputs": [
    {
     "data": {
      "text/plain": [
       "0        34\n",
       "1        27\n",
       "2        17\n",
       "3        12\n",
       "4        17\n",
       "         ..\n",
       "99995    17\n",
       "99996    18\n",
       "99997     6\n",
       "99998    13\n",
       "99999    22\n",
       "Name: earliest_cr_line, Length: 100000, dtype: int64"
      ]
     },
     "execution_count": 112,
     "metadata": {},
     "output_type": "execute_result"
    }
   ],
   "source": [
    "x"
   ]
  },
  {
   "cell_type": "code",
   "execution_count": 113,
   "metadata": {},
   "outputs": [
    {
     "name": "stderr",
     "output_type": "stream",
     "text": [
      "/Users/laura/opt/anaconda3/envs/practica_final/lib/python3.8/site-packages/seaborn/distributions.py:2551: FutureWarning: `distplot` is a deprecated function and will be removed in a future version. Please adapt your code to use either `displot` (a figure-level function with similar flexibility) or `histplot` (an axes-level function for histograms).\n",
      "  warnings.warn(msg, FutureWarning)\n"
     ]
    },
    {
     "data": {
      "image/png": "[encoded data removed]",
      "text/plain": [
       "<Figure size 432x288 with 1 Axes>"
      ]
     },
     "metadata": {
      "needs_background": "light"
     },
     "output_type": "display_data"
    }
   ],
   "source": [
    "sns.distplot(x);"
   ]
  },
  {
   "cell_type": "markdown",
   "metadata": {},
   "source": [
    "Una vez la hemos dividido, la eliminamos:"
   ]
  },
  {
   "cell_type": "code",
   "execution_count": 114,
   "metadata": {},
   "outputs": [],
   "source": [
    "prestamo3['earliest_cr_line'] = x \n",
    "del x"
   ]
  },
  {
   "cell_type": "markdown",
   "metadata": {},
   "source": [
    "Vamos a reducir la dimensión de la variable 'home_ownership' para que no nos devuelva tantas categorías:"
   ]
  },
  {
   "cell_type": "code",
   "execution_count": 115,
   "metadata": {},
   "outputs": [
    {
     "data": {
      "text/plain": [
       "MORTGAGE    49877\n",
       "RENT        38905\n",
       "OWN         11214\n",
       "NONE            2\n",
       "ANY             2\n",
       "Name: home_ownership, dtype: int64"
      ]
     },
     "execution_count": 115,
     "metadata": {},
     "output_type": "execute_result"
    }
   ],
   "source": [
    "prestamo3['home_ownership'].value_counts()"
   ]
  },
  {
   "cell_type": "code",
   "execution_count": 116,
   "metadata": {},
   "outputs": [],
   "source": [
    "prestamo3['home_ownership'] = np.where((prestamo3['home_ownership'] != 'OWN') & (prestamo3['home_ownership'] != 'RENT'),\n",
    "                                    'OTHER', prestamo3['home_ownership'].values)"
   ]
  },
  {
   "cell_type": "code",
   "execution_count": 117,
   "metadata": {},
   "outputs": [
    {
     "data": {
      "text/plain": [
       "OTHER    49881\n",
       "RENT     38905\n",
       "OWN      11214\n",
       "Name: home_ownership, dtype: int64"
      ]
     },
     "execution_count": 117,
     "metadata": {},
     "output_type": "execute_result"
    }
   ],
   "source": [
    "prestamo3['home_ownership'].value_counts()"
   ]
  },
  {
   "cell_type": "markdown",
   "metadata": {},
   "source": [
    "Vamos a reducir la dimensión de la variable 'emp_length':\n",
    "* De menos de 1 año a 5 años.\n",
    "* De 6 años a 10 años o más."
   ]
  },
  {
   "cell_type": "code",
   "execution_count": 118,
   "metadata": {},
   "outputs": [
    {
     "data": {
      "text/plain": [
       "10+ years    39865\n",
       "2 years       9460\n",
       "< 1 year      9036\n",
       "3 years       8074\n",
       "1 year        6634\n",
       "4 years       6142\n",
       "5 years       6054\n",
       "6 years       4295\n",
       "7 years       3654\n",
       "9 years       3649\n",
       "8 years       3137\n",
       "Name: emp_length, dtype: int64"
      ]
     },
     "execution_count": 118,
     "metadata": {},
     "output_type": "execute_result"
    }
   ],
   "source": [
    "prestamo3['emp_length'].value_counts()"
   ]
  },
  {
   "cell_type": "code",
   "execution_count": 119,
   "metadata": {},
   "outputs": [],
   "source": [
    "prestamo3['emp_length'] = np.where((prestamo3['emp_length'] == '< 1 year') | \n",
    "                                       (prestamo3['emp_length'] == '1 year') |\n",
    "                                       (prestamo3['emp_length'] == '2 years') | \n",
    "                                       (prestamo3['emp_length'] == '3 years') | \n",
    "                                       (prestamo3['emp_length'] == '4 years') | \n",
    "                                       (prestamo3['emp_length'] == '5 years'), \n",
    "                                       '<= 5 years', '6+ years')"
   ]
  },
  {
   "cell_type": "code",
   "execution_count": 120,
   "metadata": {},
   "outputs": [
    {
     "data": {
      "text/plain": [
       "6+ years      54600\n",
       "<= 5 years    45400\n",
       "Name: emp_length, dtype: int64"
      ]
     },
     "execution_count": 120,
     "metadata": {},
     "output_type": "execute_result"
    }
   ],
   "source": [
    "prestamo3['emp_length'].value_counts()"
   ]
  },
  {
   "cell_type": "code",
   "execution_count": 121,
   "metadata": {},
   "outputs": [
    {
     "data": {
      "image/png": "[encoded data removed]",
      "text/plain": [
       "<Figure size 432x288 with 1 Axes>"
      ]
     },
     "metadata": {
      "needs_background": "light"
     },
     "output_type": "display_data"
    }
   ],
   "source": [
    "height = prestamo3['emp_length'].value_counts()\n",
    "bars = ('<=5 years', '6+ years')\n",
    "y_pos = np.arange(len(bars))\n",
    "\n",
    "# Create horizontal bars\n",
    "plt.barh(y_pos, height)\n",
    " \n",
    "# Create names on the y-axis\n",
    "plt.yticks(y_pos, bars)\n",
    " \n",
    "# Show graphic\n",
    "plt.show()"
   ]
  },
  {
   "cell_type": "markdown",
   "metadata": {},
   "source": [
    "Para mantener la variable 'grado' y no crear tan dummies como categorías tiene la variable, aplicaremos un encondig ordinal a la variable. El método será el siguiente:\n",
    "\n",
    "Tenemos 7 categorías desde la mejor calificación, 'A', hasta la peor calificación 'G'.\n",
    "\n",
    "El orden es A> B> C> D> E> F> G.\n",
    "\n",
    "La nueva codificación será 6> 5> 4> 3> 2> 1> 0"
   ]
  },
  {
   "cell_type": "code",
   "execution_count": 122,
   "metadata": {},
   "outputs": [
    {
     "data": {
      "text/plain": [
       "C    34938\n",
       "B    29854\n",
       "A    17067\n",
       "D    11321\n",
       "E     4512\n",
       "F     1576\n",
       "G      732\n",
       "Name: grade, dtype: int64"
      ]
     },
     "execution_count": 122,
     "metadata": {},
     "output_type": "execute_result"
    }
   ],
   "source": [
    "prestamo3['grade'].value_counts()"
   ]
  },
  {
   "cell_type": "code",
   "execution_count": 123,
   "metadata": {},
   "outputs": [],
   "source": [
    "# first we create a mapper\n",
    "\n",
    "mapper = {'A': 6, 'B': 5, 'C': 4, 'D': 3, 'E': 2, 'F': 1, 'G': 0}\n",
    "\n",
    "# now we map the column and replace the values\n",
    "\n",
    "prestamo3['grade'] = prestamo3['grade'].replace(mapper)"
   ]
  },
  {
   "cell_type": "markdown",
   "metadata": {},
   "source": [
    "Debido a todas las transformaciones realizadas, el índice del marco de datos ha cambiado por lo que hay que reiniciarlo:"
   ]
  },
  {
   "cell_type": "code",
   "execution_count": 124,
   "metadata": {},
   "outputs": [],
   "source": [
    "prestamo4 = prestamo3.reset_index(drop = True)"
   ]
  },
  {
   "cell_type": "markdown",
   "metadata": {},
   "source": [
    "En este momento tenemos nuestro conjunto de datos limpio, filtrado y reducido dimensionalmente."
   ]
  },
  {
   "cell_type": "markdown",
   "metadata": {},
   "source": [
    "### Outliers"
   ]
  },
  {
   "cell_type": "markdown",
   "metadata": {},
   "source": [
    "El método que usaremos para detectar valores atípicos se llama Bosque de aislamiento. Aísla explícitamente las anomalías que construyen puntos y regiones normales asignando una puntuación a cada punto de datos. Aprovecha el hecho de que las anomalías son los puntos de datos minoritarios y que tienen valores de atributo que son muy diferentes de los de las instancias normales. Este algoritmo funciona muy bien con conjuntos de datos de muy alta dimensión y demostró ser una forma muy eficaz de detectar anomalías."
   ]
  },
  {
   "cell_type": "code",
   "execution_count": 125,
   "metadata": {},
   "outputs": [],
   "source": [
    "IF = IsolationForest(max_samples = 100, contamination = 0.05, bootstrap = False, random_state = 1)"
   ]
  },
  {
   "cell_type": "code",
   "execution_count": 126,
   "metadata": {},
   "outputs": [
    {
     "name": "stdout",
     "output_type": "stream",
     "text": [
      "CPU times: user 10.6 s, sys: 2.03 s, total: 12.6 s\n",
      "Wall time: 12.7 s\n"
     ]
    },
    {
     "data": {
      "text/plain": [
       "array([1, 1, 1, ..., 1, 1, 1])"
      ]
     },
     "execution_count": 126,
     "metadata": {},
     "output_type": "execute_result"
    }
   ],
   "source": [
    "%%time\n",
    "\n",
    "outliers = IF.fit_predict(numericas)\n",
    "outliers"
   ]
  },
  {
   "cell_type": "markdown",
   "metadata": {},
   "source": [
    "This method is very interesting but, why a sample is considered as an outlier by Isolation Forest? We will extract the first outlier was calculated and see if it is really an outlier."
   ]
  },
  {
   "cell_type": "code",
   "execution_count": 127,
   "metadata": {},
   "outputs": [
    {
     "data": {
      "text/html": [
       "<div>\n",
       "<style scoped>\n",
       "    .dataframe tbody tr th:only-of-type {\n",
       "        vertical-align: middle;\n",
       "    }\n",
       "\n",
       "    .dataframe tbody tr th {\n",
       "        vertical-align: top;\n",
       "    }\n",
       "\n",
       "    .dataframe thead th {\n",
       "        text-align: right;\n",
       "    }\n",
       "</style>\n",
       "<table border=\"1\" class=\"dataframe\">\n",
       "  <thead>\n",
       "    <tr style=\"text-align: right;\">\n",
       "      <th></th>\n",
       "      <th>Valores</th>\n",
       "    </tr>\n",
       "    <tr>\n",
       "      <th>Variable</th>\n",
       "      <th></th>\n",
       "    </tr>\n",
       "  </thead>\n",
       "  <tbody>\n",
       "    <tr>\n",
       "      <th>loan_amnt</th>\n",
       "      <td>16000.00</td>\n",
       "    </tr>\n",
       "    <tr>\n",
       "      <th>installment</th>\n",
       "      <td>360.95</td>\n",
       "    </tr>\n",
       "    <tr>\n",
       "      <th>annual_inc</th>\n",
       "      <td>94000.00</td>\n",
       "    </tr>\n",
       "    <tr>\n",
       "      <th>dti</th>\n",
       "      <td>25.61</td>\n",
       "    </tr>\n",
       "    <tr>\n",
       "      <th>delinq_2yrs</th>\n",
       "      <td>0.00</td>\n",
       "    </tr>\n",
       "    <tr>\n",
       "      <th>...</th>\n",
       "      <td>...</td>\n",
       "    </tr>\n",
       "    <tr>\n",
       "      <th>tax_liens</th>\n",
       "      <td>0.00</td>\n",
       "    </tr>\n",
       "    <tr>\n",
       "      <th>tot_hi_cred_lim</th>\n",
       "      <td>319900.00</td>\n",
       "    </tr>\n",
       "    <tr>\n",
       "      <th>total_bal_ex_mort</th>\n",
       "      <td>44830.00</td>\n",
       "    </tr>\n",
       "    <tr>\n",
       "      <th>total_bc_limit</th>\n",
       "      <td>2400.00</td>\n",
       "    </tr>\n",
       "    <tr>\n",
       "      <th>total_il_high_credit_limit</th>\n",
       "      <td>16000.00</td>\n",
       "    </tr>\n",
       "  </tbody>\n",
       "</table>\n",
       "<p>75 rows × 1 columns</p>\n",
       "</div>"
      ],
      "text/plain": [
       "                              Valores\n",
       "Variable                             \n",
       "loan_amnt                    16000.00\n",
       "installment                    360.95\n",
       "annual_inc                   94000.00\n",
       "dti                             25.61\n",
       "delinq_2yrs                      0.00\n",
       "...                               ...\n",
       "tax_liens                        0.00\n",
       "tot_hi_cred_lim             319900.00\n",
       "total_bal_ex_mort            44830.00\n",
       "total_bc_limit                2400.00\n",
       "total_il_high_credit_limit   16000.00\n",
       "\n",
       "[75 rows x 1 columns]"
      ]
     },
     "execution_count": 127,
     "metadata": {},
     "output_type": "execute_result"
    }
   ],
   "source": [
    "primer_outlier = pd.DataFrame({\"Variable\":numericas.iloc[1].index, \"Valores\": numericas.iloc[1]}).set_index(\"Variable\")\n",
    "primer_outlier"
   ]
  },
  {
   "cell_type": "markdown",
   "metadata": {},
   "source": [
    "The Isolation Forest returns us an array with 1 and -1. -1 indicates an outlier, so we need to know their index positions in order to delete the samples from the numerical dataframe."
   ]
  },
  {
   "cell_type": "code",
   "execution_count": 128,
   "metadata": {},
   "outputs": [
    {
     "data": {
      "text/plain": [
       "5000"
      ]
     },
     "execution_count": 128,
     "metadata": {},
     "output_type": "execute_result"
    }
   ],
   "source": [
    "# I do a loop in order to get the index of every -1\n",
    "\n",
    "indices_outliers = []\n",
    "for i in range(0,len(outliers)):\n",
    "    if outliers[i] == -1:\n",
    "        indices_outliers.append(i)\n",
    "\n",
    "        \n",
    "len(indices_outliers)"
   ]
  },
  {
   "cell_type": "markdown",
   "metadata": {},
   "source": [
    "According to the results we have 50 000 outliers. We have a list of the index of every row considered as an outliers, we drop them of the dataset."
   ]
  },
  {
   "cell_type": "code",
   "execution_count": 129,
   "metadata": {},
   "outputs": [],
   "source": [
    "# deletting outliers\n",
    "\n",
    "prestamo3.drop(indices_outliers, axis = 0, inplace = True)"
   ]
  },
  {
   "cell_type": "code",
   "execution_count": 130,
   "metadata": {},
   "outputs": [],
   "source": [
    "# reseting the index\n",
    "\n",
    "prestamo4 = prestamo3.reset_index(drop = True)"
   ]
  },
  {
   "cell_type": "markdown",
   "metadata": {},
   "source": [
    "### Dummies "
   ]
  },
  {
   "cell_type": "markdown",
   "metadata": {},
   "source": [
    "Procedemos a tratar nuestra variable endógena \"loan_status\":"
   ]
  },
  {
   "cell_type": "code",
   "execution_count": 131,
   "metadata": {},
   "outputs": [],
   "source": [
    "numericas = prestamo4.select_dtypes(include = [np.number])\n",
    "categoricas = prestamo4.select_dtypes(include = [np.object])"
   ]
  },
  {
   "cell_type": "code",
   "execution_count": 132,
   "metadata": {},
   "outputs": [
    {
     "name": "stderr",
     "output_type": "stream",
     "text": [
      "<ipython-input-132-cda29901609a>:1: SettingWithCopyWarning: \n",
      "A value is trying to be set on a copy of a slice from a DataFrame.\n",
      "Try using .loc[row_indexer,col_indexer] = value instead\n",
      "\n",
      "See the caveats in the documentation: https://pandas.pydata.org/pandas-docs/stable/user_guide/indexing.html#returning-a-view-versus-a-copy\n",
      "  numericas['estado_prestamo'] = np.where((categoricas['loan_status'] == 'Fully Paid'), 0, 1)\n"
     ]
    }
   ],
   "source": [
    "numericas['estado_prestamo'] = np.where((categoricas['loan_status'] == 'Fully Paid'), 0, 1)"
   ]
  },
  {
   "cell_type": "code",
   "execution_count": 133,
   "metadata": {},
   "outputs": [
    {
     "data": {
      "text/plain": [
       "0        1\n",
       "1        1\n",
       "2        1\n",
       "3        1\n",
       "4        1\n",
       "        ..\n",
       "94995    1\n",
       "94996    1\n",
       "94997    1\n",
       "94998    1\n",
       "94999    1\n",
       "Name: estado_prestamo, Length: 95000, dtype: int64"
      ]
     },
     "execution_count": 133,
     "metadata": {},
     "output_type": "execute_result"
    }
   ],
   "source": [
    "numericas['estado_prestamo']"
   ]
  },
  {
   "cell_type": "code",
   "execution_count": 134,
   "metadata": {},
   "outputs": [],
   "source": [
    "del categoricas['loan_status']"
   ]
  },
  {
   "cell_type": "markdown",
   "metadata": {},
   "source": [
    "A continuación vamos a convertir las variables categóricas a variables dummies:"
   ]
  },
  {
   "cell_type": "code",
   "execution_count": 135,
   "metadata": {},
   "outputs": [
    {
     "data": {
      "text/plain": [
       "['term',\n",
       " 'emp_length',\n",
       " 'home_ownership',\n",
       " 'verification_status',\n",
       " 'purpose',\n",
       " 'application_type']"
      ]
     },
     "execution_count": 135,
     "metadata": {},
     "output_type": "execute_result"
    }
   ],
   "source": [
    "list(categoricas)"
   ]
  },
  {
   "cell_type": "code",
   "execution_count": 136,
   "metadata": {},
   "outputs": [],
   "source": [
    "dummies = pd.get_dummies(categoricas)"
   ]
  },
  {
   "cell_type": "code",
   "execution_count": 137,
   "metadata": {
    "scrolled": true
   },
   "outputs": [
    {
     "data": {
      "text/html": [
       "<div>\n",
       "<style scoped>\n",
       "    .dataframe tbody tr th:only-of-type {\n",
       "        vertical-align: middle;\n",
       "    }\n",
       "\n",
       "    .dataframe tbody tr th {\n",
       "        vertical-align: top;\n",
       "    }\n",
       "\n",
       "    .dataframe thead th {\n",
       "        text-align: right;\n",
       "    }\n",
       "</style>\n",
       "<table border=\"1\" class=\"dataframe\">\n",
       "  <thead>\n",
       "    <tr style=\"text-align: right;\">\n",
       "      <th></th>\n",
       "      <th>term_ 36 months</th>\n",
       "      <th>term_ 60 months</th>\n",
       "      <th>emp_length_6+ years</th>\n",
       "      <th>emp_length_&lt;= 5 years</th>\n",
       "      <th>home_ownership_OTHER</th>\n",
       "      <th>home_ownership_OWN</th>\n",
       "      <th>home_ownership_RENT</th>\n",
       "      <th>verification_status_Not Verified</th>\n",
       "      <th>verification_status_Source Verified</th>\n",
       "      <th>verification_status_Verified</th>\n",
       "      <th>...</th>\n",
       "      <th>purpose_major_purchase</th>\n",
       "      <th>purpose_medical</th>\n",
       "      <th>purpose_moving</th>\n",
       "      <th>purpose_other</th>\n",
       "      <th>purpose_renewable_energy</th>\n",
       "      <th>purpose_small_business</th>\n",
       "      <th>purpose_vacation</th>\n",
       "      <th>purpose_wedding</th>\n",
       "      <th>application_type_Individual</th>\n",
       "      <th>application_type_Joint App</th>\n",
       "    </tr>\n",
       "  </thead>\n",
       "  <tbody>\n",
       "    <tr>\n",
       "      <th>0</th>\n",
       "      <td>1</td>\n",
       "      <td>0</td>\n",
       "      <td>1</td>\n",
       "      <td>0</td>\n",
       "      <td>0</td>\n",
       "      <td>1</td>\n",
       "      <td>0</td>\n",
       "      <td>1</td>\n",
       "      <td>0</td>\n",
       "      <td>0</td>\n",
       "      <td>...</td>\n",
       "      <td>0</td>\n",
       "      <td>0</td>\n",
       "      <td>0</td>\n",
       "      <td>0</td>\n",
       "      <td>0</td>\n",
       "      <td>0</td>\n",
       "      <td>0</td>\n",
       "      <td>0</td>\n",
       "      <td>1</td>\n",
       "      <td>0</td>\n",
       "    </tr>\n",
       "    <tr>\n",
       "      <th>1</th>\n",
       "      <td>0</td>\n",
       "      <td>1</td>\n",
       "      <td>1</td>\n",
       "      <td>0</td>\n",
       "      <td>1</td>\n",
       "      <td>0</td>\n",
       "      <td>0</td>\n",
       "      <td>1</td>\n",
       "      <td>0</td>\n",
       "      <td>0</td>\n",
       "      <td>...</td>\n",
       "      <td>0</td>\n",
       "      <td>0</td>\n",
       "      <td>0</td>\n",
       "      <td>0</td>\n",
       "      <td>0</td>\n",
       "      <td>0</td>\n",
       "      <td>0</td>\n",
       "      <td>0</td>\n",
       "      <td>1</td>\n",
       "      <td>0</td>\n",
       "    </tr>\n",
       "    <tr>\n",
       "      <th>2</th>\n",
       "      <td>1</td>\n",
       "      <td>0</td>\n",
       "      <td>1</td>\n",
       "      <td>0</td>\n",
       "      <td>1</td>\n",
       "      <td>0</td>\n",
       "      <td>0</td>\n",
       "      <td>1</td>\n",
       "      <td>0</td>\n",
       "      <td>0</td>\n",
       "      <td>...</td>\n",
       "      <td>0</td>\n",
       "      <td>0</td>\n",
       "      <td>0</td>\n",
       "      <td>0</td>\n",
       "      <td>0</td>\n",
       "      <td>0</td>\n",
       "      <td>0</td>\n",
       "      <td>0</td>\n",
       "      <td>1</td>\n",
       "      <td>0</td>\n",
       "    </tr>\n",
       "    <tr>\n",
       "      <th>3</th>\n",
       "      <td>1</td>\n",
       "      <td>0</td>\n",
       "      <td>1</td>\n",
       "      <td>0</td>\n",
       "      <td>0</td>\n",
       "      <td>0</td>\n",
       "      <td>1</td>\n",
       "      <td>0</td>\n",
       "      <td>1</td>\n",
       "      <td>0</td>\n",
       "      <td>...</td>\n",
       "      <td>0</td>\n",
       "      <td>0</td>\n",
       "      <td>0</td>\n",
       "      <td>0</td>\n",
       "      <td>0</td>\n",
       "      <td>0</td>\n",
       "      <td>0</td>\n",
       "      <td>0</td>\n",
       "      <td>1</td>\n",
       "      <td>0</td>\n",
       "    </tr>\n",
       "    <tr>\n",
       "      <th>4</th>\n",
       "      <td>1</td>\n",
       "      <td>0</td>\n",
       "      <td>1</td>\n",
       "      <td>0</td>\n",
       "      <td>1</td>\n",
       "      <td>0</td>\n",
       "      <td>0</td>\n",
       "      <td>0</td>\n",
       "      <td>1</td>\n",
       "      <td>0</td>\n",
       "      <td>...</td>\n",
       "      <td>0</td>\n",
       "      <td>0</td>\n",
       "      <td>0</td>\n",
       "      <td>0</td>\n",
       "      <td>0</td>\n",
       "      <td>0</td>\n",
       "      <td>0</td>\n",
       "      <td>0</td>\n",
       "      <td>1</td>\n",
       "      <td>0</td>\n",
       "    </tr>\n",
       "  </tbody>\n",
       "</table>\n",
       "<p>5 rows × 25 columns</p>\n",
       "</div>"
      ],
      "text/plain": [
       "   term_ 36 months  term_ 60 months  emp_length_6+ years  \\\n",
       "0                1                0                    1   \n",
       "1                0                1                    1   \n",
       "2                1                0                    1   \n",
       "3                1                0                    1   \n",
       "4                1                0                    1   \n",
       "\n",
       "   emp_length_<= 5 years  home_ownership_OTHER  home_ownership_OWN  \\\n",
       "0                      0                     0                   1   \n",
       "1                      0                     1                   0   \n",
       "2                      0                     1                   0   \n",
       "3                      0                     0                   0   \n",
       "4                      0                     1                   0   \n",
       "\n",
       "   home_ownership_RENT  verification_status_Not Verified  \\\n",
       "0                    0                                 1   \n",
       "1                    0                                 1   \n",
       "2                    0                                 1   \n",
       "3                    1                                 0   \n",
       "4                    0                                 0   \n",
       "\n",
       "   verification_status_Source Verified  verification_status_Verified  ...  \\\n",
       "0                                    0                             0  ...   \n",
       "1                                    0                             0  ...   \n",
       "2                                    0                             0  ...   \n",
       "3                                    1                             0  ...   \n",
       "4                                    1                             0  ...   \n",
       "\n",
       "   purpose_major_purchase  purpose_medical  purpose_moving  purpose_other  \\\n",
       "0                       0                0               0              0   \n",
       "1                       0                0               0              0   \n",
       "2                       0                0               0              0   \n",
       "3                       0                0               0              0   \n",
       "4                       0                0               0              0   \n",
       "\n",
       "   purpose_renewable_energy  purpose_small_business  purpose_vacation  \\\n",
       "0                         0                       0                 0   \n",
       "1                         0                       0                 0   \n",
       "2                         0                       0                 0   \n",
       "3                         0                       0                 0   \n",
       "4                         0                       0                 0   \n",
       "\n",
       "   purpose_wedding  application_type_Individual  application_type_Joint App  \n",
       "0                0                            1                           0  \n",
       "1                0                            1                           0  \n",
       "2                0                            1                           0  \n",
       "3                0                            1                           0  \n",
       "4                0                            1                           0  \n",
       "\n",
       "[5 rows x 25 columns]"
      ]
     },
     "execution_count": 137,
     "metadata": {},
     "output_type": "execute_result"
    }
   ],
   "source": [
    "dummies.head()"
   ]
  },
  {
   "cell_type": "code",
   "execution_count": 138,
   "metadata": {},
   "outputs": [],
   "source": [
    "dummies['grade'] = prestamo4['grade']"
   ]
  },
  {
   "cell_type": "code",
   "execution_count": 139,
   "metadata": {},
   "outputs": [
    {
     "data": {
      "text/html": [
       "<div>\n",
       "<style scoped>\n",
       "    .dataframe tbody tr th:only-of-type {\n",
       "        vertical-align: middle;\n",
       "    }\n",
       "\n",
       "    .dataframe tbody tr th {\n",
       "        vertical-align: top;\n",
       "    }\n",
       "\n",
       "    .dataframe thead th {\n",
       "        text-align: right;\n",
       "    }\n",
       "</style>\n",
       "<table border=\"1\" class=\"dataframe\">\n",
       "  <thead>\n",
       "    <tr style=\"text-align: right;\">\n",
       "      <th></th>\n",
       "      <th>term_ 36 months</th>\n",
       "      <th>term_ 60 months</th>\n",
       "      <th>emp_length_6+ years</th>\n",
       "      <th>emp_length_&lt;= 5 years</th>\n",
       "      <th>home_ownership_OTHER</th>\n",
       "      <th>home_ownership_OWN</th>\n",
       "      <th>home_ownership_RENT</th>\n",
       "      <th>verification_status_Not Verified</th>\n",
       "      <th>verification_status_Source Verified</th>\n",
       "      <th>verification_status_Verified</th>\n",
       "      <th>...</th>\n",
       "      <th>purpose_medical</th>\n",
       "      <th>purpose_moving</th>\n",
       "      <th>purpose_other</th>\n",
       "      <th>purpose_renewable_energy</th>\n",
       "      <th>purpose_small_business</th>\n",
       "      <th>purpose_vacation</th>\n",
       "      <th>purpose_wedding</th>\n",
       "      <th>application_type_Individual</th>\n",
       "      <th>application_type_Joint App</th>\n",
       "      <th>grade</th>\n",
       "    </tr>\n",
       "  </thead>\n",
       "  <tbody>\n",
       "    <tr>\n",
       "      <th>0</th>\n",
       "      <td>1</td>\n",
       "      <td>0</td>\n",
       "      <td>1</td>\n",
       "      <td>0</td>\n",
       "      <td>0</td>\n",
       "      <td>1</td>\n",
       "      <td>0</td>\n",
       "      <td>1</td>\n",
       "      <td>0</td>\n",
       "      <td>0</td>\n",
       "      <td>...</td>\n",
       "      <td>0</td>\n",
       "      <td>0</td>\n",
       "      <td>0</td>\n",
       "      <td>0</td>\n",
       "      <td>0</td>\n",
       "      <td>0</td>\n",
       "      <td>0</td>\n",
       "      <td>1</td>\n",
       "      <td>0</td>\n",
       "      <td>4</td>\n",
       "    </tr>\n",
       "    <tr>\n",
       "      <th>1</th>\n",
       "      <td>0</td>\n",
       "      <td>1</td>\n",
       "      <td>1</td>\n",
       "      <td>0</td>\n",
       "      <td>1</td>\n",
       "      <td>0</td>\n",
       "      <td>0</td>\n",
       "      <td>1</td>\n",
       "      <td>0</td>\n",
       "      <td>0</td>\n",
       "      <td>...</td>\n",
       "      <td>0</td>\n",
       "      <td>0</td>\n",
       "      <td>0</td>\n",
       "      <td>0</td>\n",
       "      <td>0</td>\n",
       "      <td>0</td>\n",
       "      <td>0</td>\n",
       "      <td>1</td>\n",
       "      <td>0</td>\n",
       "      <td>4</td>\n",
       "    </tr>\n",
       "    <tr>\n",
       "      <th>2</th>\n",
       "      <td>1</td>\n",
       "      <td>0</td>\n",
       "      <td>1</td>\n",
       "      <td>0</td>\n",
       "      <td>1</td>\n",
       "      <td>0</td>\n",
       "      <td>0</td>\n",
       "      <td>1</td>\n",
       "      <td>0</td>\n",
       "      <td>0</td>\n",
       "      <td>...</td>\n",
       "      <td>0</td>\n",
       "      <td>0</td>\n",
       "      <td>0</td>\n",
       "      <td>0</td>\n",
       "      <td>0</td>\n",
       "      <td>0</td>\n",
       "      <td>0</td>\n",
       "      <td>1</td>\n",
       "      <td>0</td>\n",
       "      <td>4</td>\n",
       "    </tr>\n",
       "    <tr>\n",
       "      <th>3</th>\n",
       "      <td>1</td>\n",
       "      <td>0</td>\n",
       "      <td>1</td>\n",
       "      <td>0</td>\n",
       "      <td>0</td>\n",
       "      <td>0</td>\n",
       "      <td>1</td>\n",
       "      <td>0</td>\n",
       "      <td>1</td>\n",
       "      <td>0</td>\n",
       "      <td>...</td>\n",
       "      <td>0</td>\n",
       "      <td>0</td>\n",
       "      <td>0</td>\n",
       "      <td>0</td>\n",
       "      <td>0</td>\n",
       "      <td>0</td>\n",
       "      <td>0</td>\n",
       "      <td>1</td>\n",
       "      <td>0</td>\n",
       "      <td>5</td>\n",
       "    </tr>\n",
       "    <tr>\n",
       "      <th>4</th>\n",
       "      <td>1</td>\n",
       "      <td>0</td>\n",
       "      <td>1</td>\n",
       "      <td>0</td>\n",
       "      <td>1</td>\n",
       "      <td>0</td>\n",
       "      <td>0</td>\n",
       "      <td>0</td>\n",
       "      <td>1</td>\n",
       "      <td>0</td>\n",
       "      <td>...</td>\n",
       "      <td>0</td>\n",
       "      <td>0</td>\n",
       "      <td>0</td>\n",
       "      <td>0</td>\n",
       "      <td>0</td>\n",
       "      <td>0</td>\n",
       "      <td>0</td>\n",
       "      <td>1</td>\n",
       "      <td>0</td>\n",
       "      <td>5</td>\n",
       "    </tr>\n",
       "  </tbody>\n",
       "</table>\n",
       "<p>5 rows × 26 columns</p>\n",
       "</div>"
      ],
      "text/plain": [
       "   term_ 36 months  term_ 60 months  emp_length_6+ years  \\\n",
       "0                1                0                    1   \n",
       "1                0                1                    1   \n",
       "2                1                0                    1   \n",
       "3                1                0                    1   \n",
       "4                1                0                    1   \n",
       "\n",
       "   emp_length_<= 5 years  home_ownership_OTHER  home_ownership_OWN  \\\n",
       "0                      0                     0                   1   \n",
       "1                      0                     1                   0   \n",
       "2                      0                     1                   0   \n",
       "3                      0                     0                   0   \n",
       "4                      0                     1                   0   \n",
       "\n",
       "   home_ownership_RENT  verification_status_Not Verified  \\\n",
       "0                    0                                 1   \n",
       "1                    0                                 1   \n",
       "2                    0                                 1   \n",
       "3                    1                                 0   \n",
       "4                    0                                 0   \n",
       "\n",
       "   verification_status_Source Verified  verification_status_Verified  ...  \\\n",
       "0                                    0                             0  ...   \n",
       "1                                    0                             0  ...   \n",
       "2                                    0                             0  ...   \n",
       "3                                    1                             0  ...   \n",
       "4                                    1                             0  ...   \n",
       "\n",
       "   purpose_medical  purpose_moving  purpose_other  purpose_renewable_energy  \\\n",
       "0                0               0              0                         0   \n",
       "1                0               0              0                         0   \n",
       "2                0               0              0                         0   \n",
       "3                0               0              0                         0   \n",
       "4                0               0              0                         0   \n",
       "\n",
       "   purpose_small_business  purpose_vacation  purpose_wedding  \\\n",
       "0                       0                 0                0   \n",
       "1                       0                 0                0   \n",
       "2                       0                 0                0   \n",
       "3                       0                 0                0   \n",
       "4                       0                 0                0   \n",
       "\n",
       "   application_type_Individual  application_type_Joint App  grade  \n",
       "0                            1                           0      4  \n",
       "1                            1                           0      4  \n",
       "2                            1                           0      4  \n",
       "3                            1                           0      5  \n",
       "4                            1                           0      5  \n",
       "\n",
       "[5 rows x 26 columns]"
      ]
     },
     "execution_count": 139,
     "metadata": {},
     "output_type": "execute_result"
    }
   ],
   "source": [
    "dummies.head()"
   ]
  },
  {
   "cell_type": "markdown",
   "metadata": {},
   "source": [
    "### Escalar"
   ]
  },
  {
   "cell_type": "code",
   "execution_count": 142,
   "metadata": {},
   "outputs": [],
   "source": [
    "escalar = MinMaxScaler()\n",
    "num_escaladas = escalar.fit_transform(numericas)\n",
    "numericas = pd.DataFrame(num_escaladas, index = numericas.index, columns = numericas.columns)"
   ]
  },
  {
   "cell_type": "code",
   "execution_count": 143,
   "metadata": {},
   "outputs": [
    {
     "data": {
      "text/html": [
       "<div>\n",
       "<style scoped>\n",
       "    .dataframe tbody tr th:only-of-type {\n",
       "        vertical-align: middle;\n",
       "    }\n",
       "\n",
       "    .dataframe tbody tr th {\n",
       "        vertical-align: top;\n",
       "    }\n",
       "\n",
       "    .dataframe thead th {\n",
       "        text-align: right;\n",
       "    }\n",
       "</style>\n",
       "<table border=\"1\" class=\"dataframe\">\n",
       "  <thead>\n",
       "    <tr style=\"text-align: right;\">\n",
       "      <th></th>\n",
       "      <th>loan_amnt</th>\n",
       "      <th>installment</th>\n",
       "      <th>annual_inc</th>\n",
       "      <th>dti</th>\n",
       "      <th>delinq_2yrs</th>\n",
       "      <th>fico_range_low</th>\n",
       "      <th>fico_range_high</th>\n",
       "      <th>inq_last_6mths</th>\n",
       "      <th>mths_since_last_delinq</th>\n",
       "      <th>open_acc</th>\n",
       "      <th>...</th>\n",
       "      <th>pub_rec_bankruptcies</th>\n",
       "      <th>tax_liens</th>\n",
       "      <th>tot_hi_cred_lim</th>\n",
       "      <th>total_bal_ex_mort</th>\n",
       "      <th>total_bc_limit</th>\n",
       "      <th>total_il_high_credit_limit</th>\n",
       "      <th>id</th>\n",
       "      <th>grade</th>\n",
       "      <th>earliest_cr_line</th>\n",
       "      <th>estado_prestamo</th>\n",
       "    </tr>\n",
       "  </thead>\n",
       "  <tbody>\n",
       "    <tr>\n",
       "      <th>0</th>\n",
       "      <td>0.033333</td>\n",
       "      <td>0.027792</td>\n",
       "      <td>0.001124</td>\n",
       "      <td>0.021632</td>\n",
       "      <td>0.000000</td>\n",
       "      <td>0.216216</td>\n",
       "      <td>0.215054</td>\n",
       "      <td>0.2</td>\n",
       "      <td>0.206781</td>\n",
       "      <td>0.070175</td>\n",
       "      <td>...</td>\n",
       "      <td>0.0</td>\n",
       "      <td>0.0</td>\n",
       "      <td>0.003091</td>\n",
       "      <td>0.006242</td>\n",
       "      <td>0.011847</td>\n",
       "      <td>0.000000</td>\n",
       "      <td>0.999952</td>\n",
       "      <td>0.666667</td>\n",
       "      <td>0.3625</td>\n",
       "      <td>1.0</td>\n",
       "    </tr>\n",
       "    <tr>\n",
       "      <th>1</th>\n",
       "      <td>0.384615</td>\n",
       "      <td>0.195791</td>\n",
       "      <td>0.010562</td>\n",
       "      <td>0.025636</td>\n",
       "      <td>0.000000</td>\n",
       "      <td>0.297297</td>\n",
       "      <td>0.295699</td>\n",
       "      <td>0.0</td>\n",
       "      <td>0.206781</td>\n",
       "      <td>0.157895</td>\n",
       "      <td>...</td>\n",
       "      <td>0.0</td>\n",
       "      <td>0.0</td>\n",
       "      <td>0.139278</td>\n",
       "      <td>0.071552</td>\n",
       "      <td>0.008362</td>\n",
       "      <td>0.021333</td>\n",
       "      <td>0.998646</td>\n",
       "      <td>0.666667</td>\n",
       "      <td>0.2750</td>\n",
       "      <td>1.0</td>\n",
       "    </tr>\n",
       "    <tr>\n",
       "      <th>2</th>\n",
       "      <td>0.128846</td>\n",
       "      <td>0.105870</td>\n",
       "      <td>0.005208</td>\n",
       "      <td>0.008889</td>\n",
       "      <td>0.000000</td>\n",
       "      <td>0.216216</td>\n",
       "      <td>0.215054</td>\n",
       "      <td>0.0</td>\n",
       "      <td>0.206781</td>\n",
       "      <td>0.192982</td>\n",
       "      <td>...</td>\n",
       "      <td>0.0</td>\n",
       "      <td>0.0</td>\n",
       "      <td>0.059952</td>\n",
       "      <td>0.019831</td>\n",
       "      <td>0.061324</td>\n",
       "      <td>0.000000</td>\n",
       "      <td>0.999961</td>\n",
       "      <td>0.666667</td>\n",
       "      <td>0.1500</td>\n",
       "      <td>1.0</td>\n",
       "    </tr>\n",
       "    <tr>\n",
       "      <th>3</th>\n",
       "      <td>0.497436</td>\n",
       "      <td>0.368578</td>\n",
       "      <td>0.004944</td>\n",
       "      <td>0.027087</td>\n",
       "      <td>0.000000</td>\n",
       "      <td>0.540541</td>\n",
       "      <td>0.537634</td>\n",
       "      <td>0.2</td>\n",
       "      <td>0.206781</td>\n",
       "      <td>0.263158</td>\n",
       "      <td>...</td>\n",
       "      <td>0.0</td>\n",
       "      <td>0.0</td>\n",
       "      <td>0.045000</td>\n",
       "      <td>0.099492</td>\n",
       "      <td>0.154704</td>\n",
       "      <td>0.075277</td>\n",
       "      <td>0.999979</td>\n",
       "      <td>0.833333</td>\n",
       "      <td>0.0875</td>\n",
       "      <td>1.0</td>\n",
       "    </tr>\n",
       "    <tr>\n",
       "      <th>4</th>\n",
       "      <td>0.307692</td>\n",
       "      <td>0.237680</td>\n",
       "      <td>0.009551</td>\n",
       "      <td>0.006797</td>\n",
       "      <td>0.055556</td>\n",
       "      <td>0.000000</td>\n",
       "      <td>0.000000</td>\n",
       "      <td>0.0</td>\n",
       "      <td>0.099379</td>\n",
       "      <td>0.087719</td>\n",
       "      <td>...</td>\n",
       "      <td>0.0</td>\n",
       "      <td>0.0</td>\n",
       "      <td>0.008534</td>\n",
       "      <td>0.024471</td>\n",
       "      <td>0.027178</td>\n",
       "      <td>0.015736</td>\n",
       "      <td>0.999979</td>\n",
       "      <td>0.833333</td>\n",
       "      <td>0.1500</td>\n",
       "      <td>1.0</td>\n",
       "    </tr>\n",
       "  </tbody>\n",
       "</table>\n",
       "<p>5 rows × 79 columns</p>\n",
       "</div>"
      ],
      "text/plain": [
       "   loan_amnt  installment  annual_inc       dti  delinq_2yrs  fico_range_low  \\\n",
       "0   0.033333     0.027792    0.001124  0.021632     0.000000        0.216216   \n",
       "1   0.384615     0.195791    0.010562  0.025636     0.000000        0.297297   \n",
       "2   0.128846     0.105870    0.005208  0.008889     0.000000        0.216216   \n",
       "3   0.497436     0.368578    0.004944  0.027087     0.000000        0.540541   \n",
       "4   0.307692     0.237680    0.009551  0.006797     0.055556        0.000000   \n",
       "\n",
       "   fico_range_high  inq_last_6mths  mths_since_last_delinq  open_acc  ...  \\\n",
       "0         0.215054             0.2                0.206781  0.070175  ...   \n",
       "1         0.295699             0.0                0.206781  0.157895  ...   \n",
       "2         0.215054             0.0                0.206781  0.192982  ...   \n",
       "3         0.537634             0.2                0.206781  0.263158  ...   \n",
       "4         0.000000             0.0                0.099379  0.087719  ...   \n",
       "\n",
       "   pub_rec_bankruptcies  tax_liens  tot_hi_cred_lim  total_bal_ex_mort  \\\n",
       "0                   0.0        0.0         0.003091           0.006242   \n",
       "1                   0.0        0.0         0.139278           0.071552   \n",
       "2                   0.0        0.0         0.059952           0.019831   \n",
       "3                   0.0        0.0         0.045000           0.099492   \n",
       "4                   0.0        0.0         0.008534           0.024471   \n",
       "\n",
       "   total_bc_limit  total_il_high_credit_limit        id     grade  \\\n",
       "0        0.011847                    0.000000  0.999952  0.666667   \n",
       "1        0.008362                    0.021333  0.998646  0.666667   \n",
       "2        0.061324                    0.000000  0.999961  0.666667   \n",
       "3        0.154704                    0.075277  0.999979  0.833333   \n",
       "4        0.027178                    0.015736  0.999979  0.833333   \n",
       "\n",
       "   earliest_cr_line  estado_prestamo  \n",
       "0            0.3625              1.0  \n",
       "1            0.2750              1.0  \n",
       "2            0.1500              1.0  \n",
       "3            0.0875              1.0  \n",
       "4            0.1500              1.0  \n",
       "\n",
       "[5 rows x 79 columns]"
      ]
     },
     "execution_count": 143,
     "metadata": {},
     "output_type": "execute_result"
    }
   ],
   "source": [
    "numericas.head()"
   ]
  },
  {
   "cell_type": "markdown",
   "metadata": {},
   "source": [
    "Concatenamos las dummies a nuestro dataframe:"
   ]
  },
  {
   "cell_type": "code",
   "execution_count": 144,
   "metadata": {},
   "outputs": [
    {
     "data": {
      "text/html": [
       "<div>\n",
       "<style scoped>\n",
       "    .dataframe tbody tr th:only-of-type {\n",
       "        vertical-align: middle;\n",
       "    }\n",
       "\n",
       "    .dataframe tbody tr th {\n",
       "        vertical-align: top;\n",
       "    }\n",
       "\n",
       "    .dataframe thead th {\n",
       "        text-align: right;\n",
       "    }\n",
       "</style>\n",
       "<table border=\"1\" class=\"dataframe\">\n",
       "  <thead>\n",
       "    <tr style=\"text-align: right;\">\n",
       "      <th></th>\n",
       "      <th>loan_amnt</th>\n",
       "      <th>installment</th>\n",
       "      <th>annual_inc</th>\n",
       "      <th>dti</th>\n",
       "      <th>delinq_2yrs</th>\n",
       "      <th>fico_range_low</th>\n",
       "      <th>fico_range_high</th>\n",
       "      <th>inq_last_6mths</th>\n",
       "      <th>mths_since_last_delinq</th>\n",
       "      <th>open_acc</th>\n",
       "      <th>...</th>\n",
       "      <th>purpose_medical</th>\n",
       "      <th>purpose_moving</th>\n",
       "      <th>purpose_other</th>\n",
       "      <th>purpose_renewable_energy</th>\n",
       "      <th>purpose_small_business</th>\n",
       "      <th>purpose_vacation</th>\n",
       "      <th>purpose_wedding</th>\n",
       "      <th>application_type_Individual</th>\n",
       "      <th>application_type_Joint App</th>\n",
       "      <th>grade_y</th>\n",
       "    </tr>\n",
       "  </thead>\n",
       "  <tbody>\n",
       "    <tr>\n",
       "      <th>0</th>\n",
       "      <td>0.033333</td>\n",
       "      <td>0.027792</td>\n",
       "      <td>0.001124</td>\n",
       "      <td>0.021632</td>\n",
       "      <td>0.000000</td>\n",
       "      <td>0.216216</td>\n",
       "      <td>0.215054</td>\n",
       "      <td>0.2</td>\n",
       "      <td>0.206781</td>\n",
       "      <td>0.070175</td>\n",
       "      <td>...</td>\n",
       "      <td>0</td>\n",
       "      <td>0</td>\n",
       "      <td>0</td>\n",
       "      <td>0</td>\n",
       "      <td>0</td>\n",
       "      <td>0</td>\n",
       "      <td>0</td>\n",
       "      <td>1</td>\n",
       "      <td>0</td>\n",
       "      <td>4</td>\n",
       "    </tr>\n",
       "    <tr>\n",
       "      <th>1</th>\n",
       "      <td>0.384615</td>\n",
       "      <td>0.195791</td>\n",
       "      <td>0.010562</td>\n",
       "      <td>0.025636</td>\n",
       "      <td>0.000000</td>\n",
       "      <td>0.297297</td>\n",
       "      <td>0.295699</td>\n",
       "      <td>0.0</td>\n",
       "      <td>0.206781</td>\n",
       "      <td>0.157895</td>\n",
       "      <td>...</td>\n",
       "      <td>0</td>\n",
       "      <td>0</td>\n",
       "      <td>0</td>\n",
       "      <td>0</td>\n",
       "      <td>0</td>\n",
       "      <td>0</td>\n",
       "      <td>0</td>\n",
       "      <td>1</td>\n",
       "      <td>0</td>\n",
       "      <td>4</td>\n",
       "    </tr>\n",
       "    <tr>\n",
       "      <th>2</th>\n",
       "      <td>0.128846</td>\n",
       "      <td>0.105870</td>\n",
       "      <td>0.005208</td>\n",
       "      <td>0.008889</td>\n",
       "      <td>0.000000</td>\n",
       "      <td>0.216216</td>\n",
       "      <td>0.215054</td>\n",
       "      <td>0.0</td>\n",
       "      <td>0.206781</td>\n",
       "      <td>0.192982</td>\n",
       "      <td>...</td>\n",
       "      <td>0</td>\n",
       "      <td>0</td>\n",
       "      <td>0</td>\n",
       "      <td>0</td>\n",
       "      <td>0</td>\n",
       "      <td>0</td>\n",
       "      <td>0</td>\n",
       "      <td>1</td>\n",
       "      <td>0</td>\n",
       "      <td>4</td>\n",
       "    </tr>\n",
       "    <tr>\n",
       "      <th>3</th>\n",
       "      <td>0.497436</td>\n",
       "      <td>0.368578</td>\n",
       "      <td>0.004944</td>\n",
       "      <td>0.027087</td>\n",
       "      <td>0.000000</td>\n",
       "      <td>0.540541</td>\n",
       "      <td>0.537634</td>\n",
       "      <td>0.2</td>\n",
       "      <td>0.206781</td>\n",
       "      <td>0.263158</td>\n",
       "      <td>...</td>\n",
       "      <td>0</td>\n",
       "      <td>0</td>\n",
       "      <td>0</td>\n",
       "      <td>0</td>\n",
       "      <td>0</td>\n",
       "      <td>0</td>\n",
       "      <td>0</td>\n",
       "      <td>1</td>\n",
       "      <td>0</td>\n",
       "      <td>5</td>\n",
       "    </tr>\n",
       "    <tr>\n",
       "      <th>4</th>\n",
       "      <td>0.307692</td>\n",
       "      <td>0.237680</td>\n",
       "      <td>0.009551</td>\n",
       "      <td>0.006797</td>\n",
       "      <td>0.055556</td>\n",
       "      <td>0.000000</td>\n",
       "      <td>0.000000</td>\n",
       "      <td>0.0</td>\n",
       "      <td>0.099379</td>\n",
       "      <td>0.087719</td>\n",
       "      <td>...</td>\n",
       "      <td>0</td>\n",
       "      <td>0</td>\n",
       "      <td>0</td>\n",
       "      <td>0</td>\n",
       "      <td>0</td>\n",
       "      <td>0</td>\n",
       "      <td>0</td>\n",
       "      <td>1</td>\n",
       "      <td>0</td>\n",
       "      <td>5</td>\n",
       "    </tr>\n",
       "  </tbody>\n",
       "</table>\n",
       "<p>5 rows × 105 columns</p>\n",
       "</div>"
      ],
      "text/plain": [
       "   loan_amnt  installment  annual_inc       dti  delinq_2yrs  fico_range_low  \\\n",
       "0   0.033333     0.027792    0.001124  0.021632     0.000000        0.216216   \n",
       "1   0.384615     0.195791    0.010562  0.025636     0.000000        0.297297   \n",
       "2   0.128846     0.105870    0.005208  0.008889     0.000000        0.216216   \n",
       "3   0.497436     0.368578    0.004944  0.027087     0.000000        0.540541   \n",
       "4   0.307692     0.237680    0.009551  0.006797     0.055556        0.000000   \n",
       "\n",
       "   fico_range_high  inq_last_6mths  mths_since_last_delinq  open_acc  ...  \\\n",
       "0         0.215054             0.2                0.206781  0.070175  ...   \n",
       "1         0.295699             0.0                0.206781  0.157895  ...   \n",
       "2         0.215054             0.0                0.206781  0.192982  ...   \n",
       "3         0.537634             0.2                0.206781  0.263158  ...   \n",
       "4         0.000000             0.0                0.099379  0.087719  ...   \n",
       "\n",
       "   purpose_medical  purpose_moving  purpose_other  purpose_renewable_energy  \\\n",
       "0                0               0              0                         0   \n",
       "1                0               0              0                         0   \n",
       "2                0               0              0                         0   \n",
       "3                0               0              0                         0   \n",
       "4                0               0              0                         0   \n",
       "\n",
       "   purpose_small_business  purpose_vacation  purpose_wedding  \\\n",
       "0                       0                 0                0   \n",
       "1                       0                 0                0   \n",
       "2                       0                 0                0   \n",
       "3                       0                 0                0   \n",
       "4                       0                 0                0   \n",
       "\n",
       "   application_type_Individual  application_type_Joint App  grade_y  \n",
       "0                            1                           0        4  \n",
       "1                            1                           0        4  \n",
       "2                            1                           0        4  \n",
       "3                            1                           0        5  \n",
       "4                            1                           0        5  \n",
       "\n",
       "[5 rows x 105 columns]"
      ]
     },
     "execution_count": 144,
     "metadata": {},
     "output_type": "execute_result"
    }
   ],
   "source": [
    "prestamo_final = pd.merge(numericas, dummies, left_index= True, right_index=True)\n",
    "prestamo_final.head()"
   ]
  },
  {
   "cell_type": "markdown",
   "metadata": {},
   "source": [
    "### Elección del Modelo de Random Forest"
   ]
  },
  {
   "cell_type": "markdown",
   "metadata": {},
   "source": [
    "En función del coste computacional, el accuracy con una muestra de 500 y del 100.000 hemos elegido este modelo como ganador."
   ]
  },
  {
   "cell_type": "code",
   "execution_count": 145,
   "metadata": {},
   "outputs": [],
   "source": [
    "X = prestamo_final.drop('estado_prestamo', axis = 1)\n",
    "y = prestamo_final['estado_prestamo']\n",
    "\n",
    "X_train, X_test, y_train, y_test = train_test_split(X, y, test_size = 0.2, random_state = 12345)"
   ]
  },
  {
   "cell_type": "markdown",
   "metadata": {},
   "source": [
    "Hacemos que se ajuste (fit) a nuestro conjunto de entradas X y salidas ‘y’."
   ]
  },
  {
   "cell_type": "code",
   "execution_count": 146,
   "metadata": {},
   "outputs": [
    {
     "data": {
      "text/plain": [
       "RandomForestClassifier()"
      ]
     },
     "execution_count": 146,
     "metadata": {},
     "output_type": "execute_result"
    }
   ],
   "source": [
    "classifier = RandomForestClassifier()\n",
    "classifier.fit(X_train, y_train)"
   ]
  },
  {
   "cell_type": "markdown",
   "metadata": {},
   "source": [
    "Y confirmamos como de bueno es nuestro modelo utilizando model.score() que nos devuelve la precisión media de las predicciones, en nuestro caso del 91,18%"
   ]
  },
  {
   "cell_type": "code",
   "execution_count": 147,
   "metadata": {},
   "outputs": [
    {
     "data": {
      "text/plain": [
       "0.9118947368421053"
      ]
     },
     "execution_count": 147,
     "metadata": {},
     "output_type": "execute_result"
    }
   ],
   "source": [
    "classifier.score(X_test, y_test)"
   ]
  },
  {
   "cell_type": "code",
   "execution_count": 156,
   "metadata": {},
   "outputs": [],
   "source": [
    "pred = classifier.predict(X_test)"
   ]
  },
  {
   "cell_type": "markdown",
   "metadata": {},
   "source": [
    "Definimos nuestra matriz de confusión:"
   ]
  },
  {
   "cell_type": "code",
   "execution_count": 157,
   "metadata": {},
   "outputs": [],
   "source": [
    "def plot_confusion_matrix(cm, classes,\n",
    "                          normalize=False,\n",
    "                          title='Confusion matrix',\n",
    "                          cmap=plt.cm.Blues):\n",
    "    #Add Normalization Option\n",
    "    if normalize:\n",
    "        cm = cm.astype('float') / cm.sum(axis=1)[:, np.newaxis]\n",
    "        print(\"Normalized confusion matrix\")\n",
    "    else:\n",
    "        print('Confusion matrix, without normalization')\n",
    "\n",
    "    print(cm)\n",
    "\n",
    "    plt.imshow(cm, interpolation='nearest', cmap=cmap)\n",
    "    plt.title(title)\n",
    "    plt.colorbar()\n",
    "    tick_marks = np.arange(len(classes))\n",
    "    plt.xticks(tick_marks, classes, rotation=45)\n",
    "    plt.yticks(tick_marks, classes)\n",
    "\n",
    "    fmt = '.2f' if normalize else 'd'\n",
    "    thresh = cm.max() / 2.\n",
    "    for i, j in itertools.product(range(cm.shape[0]), range(cm.shape[1])):\n",
    "        plt.text(j, i, format(cm[i, j], fmt),\n",
    "                 horizontalalignment=\"center\",\n",
    "                 color=\"white\" if cm[i, j] > thresh else \"black\")\n",
    "\n",
    "    plt.tight_layout()\n",
    "    plt.ylabel('True label')\n",
    "    plt.xlabel('Predicted label')"
   ]
  },
  {
   "cell_type": "code",
   "execution_count": 159,
   "metadata": {},
   "outputs": [
    {
     "name": "stdout",
     "output_type": "stream",
     "text": [
      "Confusion matrix, without normalization\n",
      "[[    0  1674]\n",
      " [    0 17326]]\n"
     ]
    },
    {
     "data": {
      "image/png": "[encoded data removed]",
      "text/plain": [
       "<Figure size 432x288 with 2 Axes>"
      ]
     },
     "metadata": {
      "needs_background": "light"
     },
     "output_type": "display_data"
    }
   ],
   "source": [
    "cnf_matrix = confusion_matrix(y_test, pred)\n",
    "plot_confusion_matrix(cnf_matrix, classes=[0,1])"
   ]
  },
  {
   "cell_type": "code",
   "execution_count": null,
   "metadata": {},
   "outputs": [],
   "source": []
  }
 ],
 "metadata": {
  "kernelspec": {
   "display_name": "practica_final",
   "language": "python",
   "name": "gradient_descent"
  },
  "language_info": {
   "codemirror_mode": {
    "name": "ipython",
    "version": 3
   },
   "file_extension": ".py",
   "mimetype": "text/x-python",
   "name": "python",
   "nbconvert_exporter": "python",
   "pygments_lexer": "ipython3",
   "version": "3.8.5"
  }
 },
 "nbformat": 4,
 "nbformat_minor": 4
}
